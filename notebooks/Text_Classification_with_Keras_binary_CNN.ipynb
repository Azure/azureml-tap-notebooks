{
 "cells": [
  {
   "cell_type": "markdown",
   "metadata": {},
   "source": [
    "## AML Package for Text Analytics - Text Classification \n",
    "### Text Classification using Convolutional Neural Networks (CNNs) and Word2Vec Embeddings\n",
    "\n",
    "### Background\n",
    "\n",
    "Sentiment analysis is the task of extracting the intended subjective information conveyed by a text. It's most common form is for polarity extraction, i.e., distinguishing between positive and negative attitudes toward some item or product.\n",
    "\n",
    "One major difficulty is that the judgment of the polarity of an opinion can be subjective. Humans, for instance, usually disagree when judging the sentiment of a sentence, typically reaching only modest inter‐annotator agreement.\n",
    "\n",
    "Moreover, polarity has to be interpreted within a context (contextual polarity). Thus, the polarity of a word can be modified in a sentence due to linguistic phenomena such as negation, modality, intensifiers, diminishers, and word sense.\n",
    "\n",
    "Deep learning is an emergent area of machine learning that offers methods for learning feature representation in a supervised or unsupervised fashion within a hierarchy. Typically, high layers of the hierarchy will have a more abstract representation (i.e., distributed representation) than lower layers. Higher layers evolve during training to exploit complex compositional nonlinear functions of the lower layers.\n",
    "\n",
    "We apply deep learning architectures to the task of sentiment analysis on a corpus of [polarized movie reviews](http://ai.stanford.edu/~amaas/data/sentiment/) from the IMDB website. This dataset was curated by Andrew Maas and fellow researchers at Stanford University, and is sometimes referred to as the _large movie review dataset_. We've provided a helper function to download the raw dataset from the URL, and transform it into a pandas DataFrame. \n",
    "\n",
    "\n",
    "### Convolutions for Text\n",
    "In this tutorial we showcase the use of neural networks with convolutions and pooling operations. The main idea behind a convolution and pooling architecture for language tasks is to apply a nonlinear (learned) function over each instantiation of a $k$-word sliding window over the sentence. For our use-case, we use a 1D convolution + maximum pooling over the review using a pre-trained word-embedding matrix.\n",
    "\n",
    "This architecture looks up each word in the embedding matrix to obtain an embedding vector, and a \"window\" of embedding vectors are concatenated together prior to the application of non-linearity and a maximum pooling operation to create features to use as predictors of sentiment. A pictorial representation of this operation over a sample sentence is given below (image is from _Yoav Goldberg (2017) - Neural Networks for Natural Language Processing, Morgan & Claypool Publishers_)\n",
    "\n",
    "![Yoav Goldberg - Neural Networks for Natural Language Processing](../imgs/conv-pool-text.png)\n",
    "\n",
    "Following are the steps for creating and deploying a custom entity extraction model using the package:\n",
    "<br> Step 1: Loading dataset and pre-trained embedding model\n",
    "<br> Step 2: Model training\n",
    "<br> Step 3: Apply the custom entity extractor \n",
    "<br> Step 4: Performance Evaluation\n",
    "<br> Step 5: Save the pipeline \n",
    "<br> Step 6: Load the pipeline \n",
    "<br> Step 7: Run the pipeline on unlabeled data\n",
    "<br> Step 8: Operationalize - Deploy the pipeline"
   ]
  },
  {
   "cell_type": "markdown",
   "metadata": {},
   "source": [
    "## Imports"
   ]
  },
  {
   "cell_type": "code",
   "execution_count": 1,
   "metadata": {},
   "outputs": [],
   "source": [
    "%reload_ext autoreload\n",
    "%autoreload 2\n",
    "%matplotlib inline"
   ]
  },
  {
   "cell_type": "code",
   "execution_count": 2,
   "metadata": {},
   "outputs": [
    {
     "name": "stdout",
     "output_type": "stream",
     "text": [
      "Name: azureml-tatk\n",
      "Version: 0.1.18149.10a1\n",
      "Summary: Microsoft Azure Machine Learning Package for Text Analytics\n",
      "Home-page: https://microsoft.sharepoint.com/teams/TextAnalyticsPackagePreview\n",
      "Author: Microsoft Corporation\n",
      "Author-email: amltap@microsoft.com\n",
      "License: UNKNOWN\n",
      "Location: /anaconda/envs/aztatk/lib/python3.5/site-packages\n",
      "Requires: scipy, azure-storage, numpy, dill, lxml, pdfminer.six, bqplot, ruamel.yaml, unidecode, nltk, jsonpickle, matplotlib, requests, scikit-learn, azure-ml-api-sdk, h5py, validators, keras, pandas, ipython, pytest, nose, pyspark, docker, sklearn-crfsuite, gensim\n",
      "Required-by: \n"
     ]
    }
   ],
   "source": [
    "import sys\n",
    "!{sys.executable} -m pip show azureml-tatk"
   ]
  },
  {
   "cell_type": "code",
   "execution_count": 3,
   "metadata": {},
   "outputs": [
    {
     "name": "stderr",
     "output_type": "stream",
     "text": [
      "Using TensorFlow backend.\n"
     ]
    }
   ],
   "source": [
    "import numpy as np\n",
    "import pandas as pd\n",
    "import os\n",
    "import pathlib\n",
    "import matplotlib.pyplot as plt\n",
    "from scipy import stats\n",
    "import pandas as pd\n",
    "\n",
    "os.environ[\"CUDA_VISIBLE_DEVICES\"] = \"0\"\n",
    "import keras"
   ]
  },
  {
   "cell_type": "markdown",
   "metadata": {},
   "source": [
    "## Step 1: Loading dataset and pre-trained embedding model"
   ]
  },
  {
   "cell_type": "markdown",
   "metadata": {},
   "source": [
    "We need to download the movie review dataset as well as the embedding model we will use in our network. Please download the data from [IMDB Data](ai.stanford.edu/~amaas/data/sentiment/aclImdb_v1.tar.gz) and save it to your home directory under `tatk\\resources\\data\\imdb`."
   ]
  },
  {
   "cell_type": "code",
   "execution_count": 4,
   "metadata": {},
   "outputs": [],
   "source": [
    "from tatk.utils.load_data import load_imdb_data\n",
    "resources_dir = os.path.join(os.path.expanduser(\"~\"), \"tatk\", \"resources\")\n",
    "data_dir = os.path.join(resources_dir, \"data\")"
   ]
  },
  {
   "cell_type": "code",
   "execution_count": 5,
   "metadata": {},
   "outputs": [
    {
     "name": "stdout",
     "output_type": "stream",
     "text": [
      "IMDB dataset already downloaded and loading from /home/alizaidi/tatk/resources/data/imdb/movie_data.csv\n"
     ]
    }
   ],
   "source": [
    "X_train, y_train, X_test, y_test = load_imdb_data(data_dir=str(data_dir))"
   ]
  },
  {
   "cell_type": "markdown",
   "metadata": {},
   "source": [
    "### Download the Embedding Model\n",
    "\n",
    "Download pretrained Google word embedding model [GoogleNews-vectors-negative300.bin.gz](https://drive.google.com/uc?id=0B7XkCwpI5KDYNlNUTTlSS21pQmM&export=download), and save it your home directory under `tatk\\resources\\models\\Word2Vec_Models\\`."
   ]
  },
  {
   "cell_type": "code",
   "execution_count": 6,
   "metadata": {},
   "outputs": [],
   "source": [
    "from tatk.utils.load_data import models_dir, download_embedding_model\n",
    "embedding_file_path = download_embedding_model(models_dir, embedding_type=\"google\")\n",
    "import pathlib\n",
    "# embedding_file_path = str(pathlib.Path(resources_dir).joinpath(\"models\", \"Word2Vec_Models\", \n",
    "#                                                                \"GoogleNews-vectors-negative300.bin\"))"
   ]
  },
  {
   "cell_type": "code",
   "execution_count": 7,
   "metadata": {},
   "outputs": [
    {
     "data": {
      "text/html": [
       "<div>\n",
       "<table border=\"1\" class=\"dataframe\">\n",
       "  <thead>\n",
       "    <tr style=\"text-align: right;\">\n",
       "      <th></th>\n",
       "      <th>review</th>\n",
       "      <th>sentiment</th>\n",
       "    </tr>\n",
       "  </thead>\n",
       "  <tbody>\n",
       "    <tr>\n",
       "      <th>0</th>\n",
       "      <td>I don't know if it was the directors intent to...</td>\n",
       "      <td>1</td>\n",
       "    </tr>\n",
       "    <tr>\n",
       "      <th>1</th>\n",
       "      <td>This extremely low-budget monster flick center...</td>\n",
       "      <td>0</td>\n",
       "    </tr>\n",
       "    <tr>\n",
       "      <th>2</th>\n",
       "      <td>The Angry Red Planet (Quickie Review) &lt;br /&gt;&lt;b...</td>\n",
       "      <td>0</td>\n",
       "    </tr>\n",
       "    <tr>\n",
       "      <th>3</th>\n",
       "      <td>One of the unsung gems of the 1980's, Scenes.....</td>\n",
       "      <td>1</td>\n",
       "    </tr>\n",
       "    <tr>\n",
       "      <th>4</th>\n",
       "      <td>I could not even bring myself to watch this mo...</td>\n",
       "      <td>0</td>\n",
       "    </tr>\n",
       "  </tbody>\n",
       "</table>\n",
       "</div>"
      ],
      "text/plain": [
       "                                              review  sentiment\n",
       "0  I don't know if it was the directors intent to...          1\n",
       "1  This extremely low-budget monster flick center...          0\n",
       "2  The Angry Red Planet (Quickie Review) <br /><b...          0\n",
       "3  One of the unsung gems of the 1980's, Scenes.....          1\n",
       "4  I could not even bring myself to watch this mo...          0"
      ]
     },
     "execution_count": 7,
     "metadata": {},
     "output_type": "execute_result"
    }
   ],
   "source": [
    "imdb_train = pd.DataFrame({'review': X_train, 'sentiment': y_train})\n",
    "imdb_train[0:5]"
   ]
  },
  {
   "cell_type": "code",
   "execution_count": 8,
   "metadata": {},
   "outputs": [],
   "source": [
    "imdb_train['word_counts'] = imdb_train['review'].str.split().apply(len)"
   ]
  },
  {
   "cell_type": "code",
   "execution_count": 9,
   "metadata": {},
   "outputs": [
    {
     "data": {
      "image/png": "[encoded data removed]",
      "text/plain": [
       "<Figure size 432x288 with 1 Axes>"
      ]
     },
     "metadata": {},
     "output_type": "display_data"
    }
   ],
   "source": [
    "plt.hist(imdb_train['word_counts'], bins = \"auto\")\n",
    "plt.title(\"count frequency of words per review\")\n",
    "plt.show()"
   ]
  },
  {
   "cell_type": "code",
   "execution_count": 10,
   "metadata": {},
   "outputs": [
    {
     "name": "stdout",
     "output_type": "stream",
     "text": [
      "average unique tokens in a review:  230.61768\n"
     ]
    }
   ],
   "source": [
    "print(\"average unique tokens in a review: \", imdb_train['word_counts'].mean())"
   ]
  },
  {
   "cell_type": "code",
   "execution_count": 11,
   "metadata": {},
   "outputs": [
    {
     "data": {
      "image/png": "[encoded data removed]",
      "text/plain": [
       "<Figure size 432x288 with 1 Axes>"
      ]
     },
     "metadata": {},
     "output_type": "display_data"
    }
   ],
   "source": [
    "plt.hist(imdb_train['sentiment'], bins = \"auto\")\n",
    "plt.title(\"count frequency of reviews per class label\")\n",
    "plt.show()"
   ]
  },
  {
   "cell_type": "markdown",
   "metadata": {},
   "source": [
    "There is a large right tail to the length of review, meaning some reviewers are very verbose (over 2000 unique words in one review!), while others are very curt. The minimum length is four unique words:"
   ]
  },
  {
   "cell_type": "code",
   "execution_count": 12,
   "metadata": {},
   "outputs": [
    {
     "name": "stdout",
     "output_type": "stream",
     "text": [
      "['Primary plot!Primary direction!Poor interpretation.']\n"
     ]
    }
   ],
   "source": [
    "print(imdb_train[imdb_train[\"review\"].apply(lambda x: len(str.split(x)) == imdb_train['word_counts'].min())][\"review\"].values)"
   ]
  },
  {
   "cell_type": "code",
   "execution_count": 13,
   "metadata": {},
   "outputs": [
    {
     "name": "stdout",
     "output_type": "stream",
     "text": [
      "['Back in the mid/late 80s, an OAV anime by title of \"Bubblegum Crisis\" (which I think is a military slang term for when technical equipment goes haywire) made its debut on video, taking inspiration from \"Blade Runner\", \"The Terminator\" and maybe even \"Robocop\", with a little dash of Batman/Bruce Wayne - Iron Man/Tony Stark and Charlie\\'s Angel\\'s girl power thrown in for good measure. 8 episodes long, the overall story was that in 21st century Tokyo, Japan, year 2032-2033, living machines called Boomers were doing manual labor and sometimes cause problems. A special, SWAT like branch of law enforcers, the Advanced Police (AD Police for short) were formed to handle the boomers, but were mostly ineffective, prompting millionaire scientist Sylia Stingray, the daughter of the scientist who made the boomers, to create four powered combat armor (hard suits) to be worn by women to fight the boomers and fight the evil corporation that produced the boomers, GENOM. That group becomes known as the Knight Sabers, and in addition to ring leader Sylia, her rag-tag band of rebel women included Priss Asagiri, a struggling rock and roll gal with a passion for motorcycles and a disdain for cops, Linna Yamazaki, an aerobics instructor with an eye for money and a tendency to blow through boyfriends, and Nene Romanova, a young officer of the ADP and expert computer hacker (the first in a long line). GENOM, meanwhile, is represented by Quincy, a tall, gaunt old guy who happens to own the company, his younger assistant Brian J. Mason (killed in episode 3) and an annoying boomer man named Largo. Other characters included Leon McNichol and Daley Wong, two AD Police detectives (Leon appeared in a spin-off/prequel anime, \"AD Police Files\" which I heard was very dark), their balding, overweight boss Chief Todo, Sylia\\'s younger brother Mackey, and a funny little mechanic known as Dr. Raven, who apparently helps Sylia with maintaining the suits. Aside from the overall Knight Sabers & AD Police VS GENOM storyline, there was also another storyline involving a friend of Linna\\'s who was apparently a daughter in a big crime family, the annoying Largo trying to usurp GENOM, and various Priss-wants-revenge-for-a-minor-character story. Oh and did I mention that there were hints that Sylia herself might have been a boomer?<br /><br />Well, it was a great watch, full of chaos and mayhem and even some very nice pop songs, but it was not without its flaws, some of which, unfortunately, were due to the fact that the series was discontinued after episode 8 when it was originally planned for 13 episodes in all. So some of the storylines, like Largo\\'s scheme (or schemes), the family of Linna\\'s ill-fated friend, and Sylia\\'s origins, were never resolved. Another problem with the series was that at the time Priss was the most popular character, so a good portion of the series focused on her, and unfortunately, most of the Priss oriented episodes basically focused on Priss self-righteously seeking justice/revenge for some secondary character who had never appeared before but happened to be a friend of hers, yet she rarely went out of her way for her the Knight Sabers, who were always bailing her out of trouble and for some reason cared a great deal about her well-being (just to be fair though, she did go to rescue Linna in episode 7, and her boyfriend got killed by a boomer and the ADP acted wrongly in the investigation). This meant we didn\\'t really get to focus on the more interesting back story of Sylia, or even the day-to-day antics of Nene and Linna. Linna had two episodes oriented around her, which pertained to her friend with the mafia family, while Nene managed to snag the last episode for herself, which showed her eternal good cheer was genuinely good spirits and not ditziness. Nene also got to put her computer skills to good use quite a bit, or she sometimes just acted like a lovable goof, which put her screen time and character development a few notches above poor Linna, who was often thrust into the background with only her greed and her tendency to eat up boyfriends to get her any attention. Don\\'t get me wrong, I like it and I love the overall concept of it all, but it did irk me a little bit. Also this is one of those runner-ups for \"worst English voice dubbing of all time\" features, meaning you\\'d better stick to the Japanese. Some of the voices were okay (some really did match their characters personas) but others were just flat and passionless or, in the case of Priss, really overacted.<br /><br />Well, Tokyo 2040 comes along and pretty much tosses all that out the window. Set a few years ahead, the story here is that after earthquakes shattered Tokyo, GENOM\\'s boomers rebuilt the city into a big old paradise, except the boomers still have a tendency to fly off the handle, which prompts the AD Police to be formed followed by the Knight Sabers being formed. So the overall story is the same, but the backstories of the characters and the look and attitudes of the characters have changed a lot.<br /><br />1) Originally Sylia had short purplish black hair and brown eyes, was usually dressed like a stern, proper business woman and was distant from others. 2040 Sylia has more of a super-model look to her, dressing more provocatively and possessing white hair and blue eyes that seem to change color depending on the light (runs the gamut from blue to purple to silver and eyes occasionally looking purple or gray), and also 2040 Sylia is more of an emotionally unstable woman who flies off the handle when she\\'s not in public, and possibly keeps even more secrets than before. Sylia also doesn\\'t take as much risk on the battlefield, as she is more of a stay-in-the-mobile-pit type here, but she does do battle when she has to.<br /><br />2) Originally Priss was a short woman with an Afro and a really bad temper, always picking fights with people who offended her, always biting off more than she could chew, etc. 2040 Priss, however, has gone the way of the Clint Eastwood loner - very cold, very stoic and emotionally distant (more like the original Sylia you might say), so she\\'s not really attached to anyone. Also her hair is more stingry and cat-like (a big improvement) and she is clad in leather like Trinity from \"The Matrix\" (although much less annoying than before, unfortunately, the writers screw her in the end when revealing her reasons for hating the ADP).<br /><br />3) Originally Linna had this big black hair going for her, but now her hair is shorter, browner, and, well, more 90s like. 2040 Linna is also an office lady who has bad luck with being sexually harrassed. As if to apologize for the way she was treated by the OAV writers, the 2040 writers actually dedicated the first 6 episodes to Linna, writing her as a country girl new to the city but determined to meet the Knight Sabers and win a spot with them, which she eventually does.<br /><br />4) Originally a short red haired girl who was often the victim of ridicule and ate a lot of candy, Nene is now a short blonde haired girl who likes to tease and take pot shots at ADP detective Leon McNichol (revenge for him toying with her in the OAV?) and other characters, even her surrogate big sister Linna and Mackey, Sylia\\'s \"brother\", whom she becomes infatuated with. Cockey and arrogant, she still eats a lot of candy and is a master hacker, but she is eventually deflated and grows beyond her comic relief status.<br /><br />5) Nigel Kirkland is a new character, a tall, stoic, ruggedly handsome man with long black hair (he looks like Adrian Paul from TV\\'s Highlander), he replaces Dr. Raven from the old series and now serves as the man who gives maitenance to Sylia\\'s hard suits. Nigel is also Sylia\\'s lover, but you wouldn\\'t know it by his demeanor. He\\'s kind of the father/big brother/mentor figure to Mackey.<br /><br />6) Leon and Daley are back, but of course differently. The original Leon was a tall pretty boy built like a baseball player with slicked back brown hair, blue eyes, a black leather jacket, tight blue jeans, and always carrying a revolver that could magically pack more whallop than a howitzer if necessary; while he wasn\\'t really a bad guy deep down, he was kind of a jerk, but he served mostly as comic relief, as he tried to pursue Priss romantically (exactly what he saw in her is a mystery) but occasionally he and Daley served as information guides to important plot points. Also the original Daley was a fairly muscular red head who dressed in pink/purple suits as he was a flamboyantly homosexual character who was always hitting on Leon when not providing important information. In 2040, Leon is no longer a pretty boy but more your typical rugged tough guy type, with spiked black hair, brown eyes, tall and sporting big muscles, a brown leather jacket and blue dockers (he actually looks like Arnold Schwarzenegger a little bit, or maybe a pumped up Colin Farrell, or Hugh Jackman), and he still carries a revolver, a BIG one, but it\\'s not as powerful as before. Although 2040 Leon still has a bit of an attitude probelm (especially in approaching Priss), he\\'s not nearly as much of a jerk as he was in the old series, but he does have a bad temper and he is easily annoyed by Nene and Daley (also he drinks way too much coffee). Oh, and Leon is still after Priss, but he has a lot more luck this time around. Daley, meanwhile, is now a taller (but not as tall as Leon) more pretty boyish looking guy with red rimmed glasses, a white suit, green eyes, and light brown hair, and he carries a big machine gun (he actually looks like James Marsden from the X-Men films); Daley is a lot smarter and more assertive in 2040 than the OAV and, although it\\'s not completely clear, his homosexual tendencies have been almost totally disappeared, save a moment of what appears to be jealousy when he hears about Leon inquiring about Priss\\'s e-mail.<br /><br />7) Brian J. Mason (what does that \"J\" stand for?) is back, and so is Quincy, but Mason is much more the main villain here, with Quincy as co-villain, as he is no longer a towering figure of terror but a vegetable with a bunch of batteries and wires plugged into him. Mason now sports slicked back brown hair instead of black hair as he did in the OAV (he actually looks like OAV Leon in a suit) and he is very much from the Alan Rickman school of villains.<br /><br />8) Though a pervert in the first series, Mackey is no longer a pervert in 2040. Of course, there are lots of things different about Mackey in 2040, but they won\\'t be revealed here.<br /><br />9) Sylia now has a companion, an Alfred-the-butler type named Henderson, who worries about her and the gang.<br /><br />10) In the original series, boomers were like the Replicants in \"Blade Runner\", armed with their own thoughts and feelings and ambitions, but in 2040, they\\'re more of the dumb-monsters-on-the-rampage type. Most of the time they\\'re just big robots who do whatever they\\'re programmed to do (heavy labor, combat, clean up, etc) and they have this tendency to \"go rogue\", which means try to evolve and become a monster in the process.<br /><br />What does stay the same is the theme of humanity VS technology (do machines have souls?). Sadly, this series, though well animated and well written, only runs 26 episodes, so it moves by faster than one might like, especially those of us who are used to more than one season of our most beloved characters, and unfortunately it still ends on a cliff hanger with unresolved storyline bits (which I will not discuss here. What saves this show and makes it what it is, however, is the characters, a colorful cast of screwballs they are, ranging from stoic loners, psycho women, genocidal mad men, rough neck cops, sardonic intellectuals, wise old sages, and loveable innocents, much more diverse than before and with a lot more to play off of, they\\'re enough to make you wish this show had gone longer.<br /><br />It\\'s not great, but it\\'s a good watch. Also the English dub (by ADV) is quite good, though not without a few flat spots, but certainly better than the dub on the original.']\n"
     ]
    }
   ],
   "source": [
    "print(imdb_train[imdb_train[\"review\"].apply(lambda x: len(str.split(x)) == imdb_train['word_counts'].max())][\"review\"].values)"
   ]
  },
  {
   "cell_type": "markdown",
   "metadata": {},
   "source": [
    "## Step 2: Model training"
   ]
  },
  {
   "cell_type": "code",
   "execution_count": 14,
   "metadata": {},
   "outputs": [
    {
     "name": "stdout",
     "output_type": "stream",
     "text": [
      "KerasEmbeddingTextClassifier::create_pipeline ==> start\n",
      "Word2VecVectorizer::load_embeddings ==> start\n",
      "Time taken: 0.03 mins\n",
      "Word2VecVectorizer::load_embeddings ==> end\n",
      "num_words=100002\n",
      ":: number of jobs for the pipeline : 24\n",
      "0\tnltk_preprocessor\n",
      "1\tvectorizer\n",
      "2\tlearner\n",
      "KerasEmbeddingTextClassifier::create_pipeline ==> end\n"
     ]
    }
   ],
   "source": [
    "from tatk.pipelines.text_classification.keras_embedding_text_classifier import KerasEmbeddingTextClassifier\n",
    "import datetime\n",
    "log_dir = pathlib.Path(resources_dir) / \"logs\"\n",
    "imdb_logs = str(log_dir / \"imdb_results\" / datetime.datetime.now().strftime(\"%Y_%m_%d\") / \"kernel_3\")\n",
    "\n",
    "# the generic word embedding model has 3M words. We load the top <max_features> words as input features to the neural network\n",
    "max_features=100000\n",
    "\n",
    "keras_text_classifier = KerasEmbeddingTextClassifier(embedding_file_path, \n",
    "                                                     input_col=\"review\", \n",
    "                                                     label_cols=\"sentiment\",\n",
    "                                                     model_type=\"CNN\",\n",
    "                                                     binary_format=True, \n",
    "                                                     limit=max_features,\n",
    "                                                     cuda_devices=\"0\",\n",
    "                                                     callbacks=True,\n",
    "                                                     log_dir=imdb_logs)"
   ]
  },
  {
   "cell_type": "markdown",
   "metadata": {},
   "source": [
    "### View and Modify Pipeline and Model Parameters"
   ]
  },
  {
   "cell_type": "markdown",
   "metadata": {},
   "source": [
    "Since we are using a slice of the full word embedding matrix (i.e., specified by the `limit` parameter and `max_features` value above) it'll be more efficient to not save the entire word-embedding matrix in our saved pipeline. This can be specified by modifying the `get_from_path` argument in the word2vec `vectorizer`. "
   ]
  },
  {
   "cell_type": "code",
   "execution_count": 15,
   "metadata": {},
   "outputs": [
    {
     "data": {
      "text/plain": [
       "{'binary_format': True,\n",
       " 'callbacks': True,\n",
       " 'class_type': 'single-label',\n",
       " 'cuda_devices': '0',\n",
       " 'embedding_file_path': '/home/alizaidi/tatk/resources/models/Word2Vec_Models/GoogleNews-vectors-negative300.bin',\n",
       " 'input_col': 'review',\n",
       " 'label_cols': ['sentiment'],\n",
       " 'limit': 100000,\n",
       " 'log_dir': '/home/alizaidi/tatk/resources/logs/imdb_results/2018_06_12/kernel_3',\n",
       " 'model_type': 'CNN',\n",
       " 'n_labels': None,\n",
       " 'regex': None,\n",
       " 'trainable_embedding': False}"
      ]
     },
     "execution_count": 15,
     "metadata": {},
     "output_type": "execute_result"
    }
   ],
   "source": [
    "keras_text_classifier.get_params()"
   ]
  },
  {
   "cell_type": "code",
   "execution_count": 16,
   "metadata": {},
   "outputs": [
    {
     "data": {
      "text/plain": [
       "{'batch_size': 50,\n",
       " 'callbacks_list': ['tensorboard', 'checkpoint', 'early'],\n",
       " 'cuda_devices': '0',\n",
       " 'feature_cols': ['features'],\n",
       " 'input_padding_value': 100001,\n",
       " 'label_cols': ['sentiment'],\n",
       " 'log_path': '/home/alizaidi/tatk/resources/logs/imdb_results/2018_06_12/kernel_3',\n",
       " 'max_len': None,\n",
       " 'model__class_type': 'single-label',\n",
       " 'model__dropout_rate': 0.25,\n",
       " 'model__hidden_dims': 250,\n",
       " 'model__init_wordvecs': array([[ 1.12915039e-03, -8.96453857e-04,  3.18527222e-04, ...,\n",
       "         -1.56402588e-03, -1.23023987e-04, -8.63075256e-05],\n",
       "        [ 7.03125000e-02,  8.69140625e-02,  8.78906250e-02, ...,\n",
       "         -4.76074219e-02,  1.44653320e-02, -6.25000000e-02],\n",
       "        [-1.17797852e-02, -4.73632812e-02,  4.46777344e-02, ...,\n",
       "          7.12890625e-02, -3.49121094e-02,  2.41699219e-02],\n",
       "        ...,\n",
       "        [ 5.03540039e-03, -9.57031250e-02,  1.75781250e-01, ...,\n",
       "          1.84570312e-01, -2.13867188e-01,  2.63671875e-01],\n",
       "        [-4.27824607e-02,  5.15116424e-02, -7.92370295e-03, ...,\n",
       "         -2.16308636e-02, -8.32945040e-02, -4.12242781e-02],\n",
       "        [ 0.00000000e+00,  0.00000000e+00,  0.00000000e+00, ...,\n",
       "          0.00000000e+00,  0.00000000e+00,  0.00000000e+00]]),\n",
       " 'model__kernel_size': [3],\n",
       " 'model__num_filters': 250,\n",
       " 'model__trainable_embedding': False,\n",
       " 'model__wordvecs_shape': (100002, 300),\n",
       " 'model_fn': <function tatk.estimators.keras_model_functions.keras_CNN_text_classifier_fn.keras_CNN_text_classifier_fn(with_embedding_layer, model_params, n_labels, num_features=None, num_sent_features=0)>,\n",
       " 'model_type': 'CNN',\n",
       " 'n_epochs': 15,\n",
       " 'n_labels': None,\n",
       " 'prediction_col': 'prediction',\n",
       " 'probabilities_col': 'probabilities',\n",
       " 'validation_split': 0.1}"
      ]
     },
     "execution_count": 16,
     "metadata": {},
     "output_type": "execute_result"
    }
   ],
   "source": [
    "keras_text_classifier.get_step_params_by_name(\"learner\")"
   ]
  },
  {
   "cell_type": "code",
   "execution_count": 17,
   "metadata": {},
   "outputs": [],
   "source": [
    "keras_text_classifier.set_step_params_by_name(\"learner\", model__kernel_size=[3])\n",
    "keras_text_classifier.set_step_params_by_name(\"vectorizer\", get_from_path=False)"
   ]
  },
  {
   "cell_type": "code",
   "execution_count": 18,
   "metadata": {},
   "outputs": [
    {
     "name": "stdout",
     "output_type": "stream",
     "text": [
      "KerasEmbeddingTextClassifier::fit ==> start\n",
      "schema: col=review:TX:0 col=sentiment:I8:1 col=word_counts:I8:2 header+\n",
      "F1 2018-06-12 19:18:32,556 INFO azureml.text:machine info {\"os_type\": \"Linux\", \"is_dsvm\": true} \n",
      "F1 2018-06-12 19:18:32,559 INFO azureml.text:8352507970292263481 TatkPipeline::fit ==> start \n",
      "F1 2018-06-12 19:18:32,571 INFO azureml.text:8352507970292263481 NltkPreprocessor::tatk_fit_transform ==> start \n",
      "NltkPreprocessor::tatk_fit_transform ==> start\n",
      "F1 2018-06-12 19:18:38,906 INFO azureml.text:8352507970292263481 NltkPreprocessor::tatk_fit_transform ==> end \t Time taken: 0.11 mins \n",
      "NltkPreprocessor::tatk_fit_transform ==> end \t Time taken: 0.11 mins\n",
      "F1 2018-06-12 19:18:38,912 INFO azureml.text:8352507970292263481 Word2VecVectorizer::tatk_fit_transform ==> start \n",
      "Word2VecVectorizer::tatk_fit_transform ==> start\n",
      "F1 2018-06-12 19:18:45,337 INFO azureml.text:8352507970292263481 Word2VecVectorizer::tatk_fit_transform ==> end \t Time taken: 0.11 mins \n",
      "Word2VecVectorizer::tatk_fit_transform ==> end \t Time taken: 0.11 mins\n",
      "KerasEmbeddingTextClassifierLearner::tatk_fit ==> start\n",
      "WARNING:tensorflow:From /anaconda/envs/aztatk/lib/python3.5/site-packages/tensorflow/contrib/learn/python/learn/datasets/base.py:198: retry (from tensorflow.contrib.learn.python.learn.datasets.base) is deprecated and will be removed in a future version.\n",
      "Instructions for updating:\n",
      "Use the retry module or similar alternatives.\n",
      "F1 2018-06-12 19:18:55,197 WARNING From /anaconda/envs/aztatk/lib/python3.5/site-packages/tensorflow/contrib/learn/python/learn/datasets/base.py:198: retry (from tensorflow.contrib.learn.python.learn.datasets.base) is deprecated and will be removed in a future version.\n",
      "Instructions for updating:\n",
      "Use the retry module or similar alternatives.\n",
      "WARNING:tensorflow:From /anaconda/envs/aztatk/lib/python3.5/site-packages/tensorflow/python/util/deprecation.py:497: calling conv1d (from tensorflow.python.ops.nn_ops) with data_format=NHWC is deprecated and will be removed in a future version.\n",
      "Instructions for updating:\n",
      "`NHWC` for data_format is deprecated, use `NWC` instead\n",
      "F1 2018-06-12 19:18:57,033 WARNING From /anaconda/envs/aztatk/lib/python3.5/site-packages/tensorflow/python/util/deprecation.py:497: calling conv1d (from tensorflow.python.ops.nn_ops) with data_format=NHWC is deprecated and will be removed in a future version.\n",
      "Instructions for updating:\n",
      "`NHWC` for data_format is deprecated, use `NWC` instead\n",
      "_________________________________________________________________\n",
      "Layer (type)                 Output Shape              Param #   \n",
      "=================================================================\n",
      "input_1 (InputLayer)         (None, None)              0         \n",
      "_________________________________________________________________\n",
      "embedding_1 (Embedding)      (None, None, 300)         30000600  \n",
      "_________________________________________________________________\n",
      "conv1d_1 (Conv1D)            (None, None, 250)         225250    \n",
      "_________________________________________________________________\n",
      "global_max_pooling1d_1 (Glob (None, 250)               0         \n",
      "_________________________________________________________________\n",
      "dropout_1 (Dropout)          (None, 250)               0         \n",
      "_________________________________________________________________\n",
      "dense_1 (Dense)              (None, 250)               62750     \n",
      "_________________________________________________________________\n",
      "activation_1 (Activation)    (None, 250)               0         \n",
      "_________________________________________________________________\n",
      "dense_2 (Dense)              (None, 2)                 502       \n",
      "_________________________________________________________________\n",
      "activation_2 (Activation)    (None, 2)                 0         \n",
      "=================================================================\n",
      "Total params: 30,289,102\n",
      "Trainable params: 288,502\n",
      "Non-trainable params: 30,000,600\n",
      "_________________________________________________________________\n",
      "None\n",
      "Epoch 1/15\n",
      "446/450 [============================>.] - ETA: 0s - loss: 0.3863 - acc: 0.8176\n",
      "Epoch 00001: val_loss improved from inf to 0.33726, saving model to /home/alizaidi/tatk/resources/logs/imdb_results/2018_06_12/kernel_3/checkpoints\n",
      "450/450 [==============================] - 17s 39ms/step - loss: 0.3855 - acc: 0.8180 - val_loss: 0.3373 - val_acc: 0.8576\n",
      "Epoch 2/15\n",
      "449/450 [============================>.] - ETA: 0s - loss: 0.2540 - acc: 0.8950\n",
      "Epoch 00002: val_loss improved from 0.33726 to 0.26149, saving model to /home/alizaidi/tatk/resources/logs/imdb_results/2018_06_12/kernel_3/checkpoints\n",
      "450/450 [==============================] - 9s 21ms/step - loss: 0.2538 - acc: 0.8952 - val_loss: 0.2615 - val_acc: 0.8984\n",
      "Epoch 3/15\n",
      "448/450 [============================>.] - ETA: 0s - loss: 0.1958 - acc: 0.9230\n",
      "Epoch 00003: val_loss improved from 0.26149 to 0.25793, saving model to /home/alizaidi/tatk/resources/logs/imdb_results/2018_06_12/kernel_3/checkpoints\n",
      "450/450 [==============================] - 9s 20ms/step - loss: 0.1958 - acc: 0.9232 - val_loss: 0.2579 - val_acc: 0.9028\n",
      "Epoch 4/15\n",
      "446/450 [============================>.] - ETA: 0s - loss: 0.1411 - acc: 0.9452\n",
      "Epoch 00004: val_loss did not improve\n",
      "450/450 [==============================] - 8s 18ms/step - loss: 0.1410 - acc: 0.9452 - val_loss: 0.2818 - val_acc: 0.8932\n",
      "Epoch 5/15\n",
      "448/450 [============================>.] - ETA: 0s - loss: 0.1038 - acc: 0.9615\n",
      "Epoch 00005: val_loss did not improve\n",
      "450/450 [==============================] - 8s 17ms/step - loss: 0.1037 - acc: 0.9615 - val_loss: 0.3133 - val_acc: 0.8964\n",
      "KerasEmbeddingTextClassifierLearner::tatk_fit ==> end \t Time taken: 1.07 mins\n",
      "F1 2018-06-12 19:19:49,607 INFO azureml.text:8352507970292263481 TatkPipeline::fit ==> end \n",
      "Time taken: 1.28 mins\n",
      "KerasEmbeddingTextClassifier::fit ==> end\n"
     ]
    },
    {
     "data": {
      "text/plain": [
       "KerasEmbeddingTextClassifier(binary_format=True, callbacks=True,\n",
       "               class_type='single-label', cuda_devices='0',\n",
       "               embedding_file_path='/home/alizaidi/tatk/resources/models/Word2Vec_Models/GoogleNews-vectors-negative300.bin',\n",
       "               input_col='review', label_cols=['sentiment'], limit=100000,\n",
       "               log_dir='/home/alizaidi/tatk/resources/logs/imdb_results/2018_06_12/kernel_3',\n",
       "               model_type='CNN', n_labels=None, regex=None,\n",
       "               trainable_embedding=False)"
      ]
     },
     "execution_count": 18,
     "metadata": {},
     "output_type": "execute_result"
    }
   ],
   "source": [
    "keras_text_classifier.fit(imdb_train)"
   ]
  },
  {
   "cell_type": "markdown",
   "metadata": {},
   "source": [
    "## Step 3: Apply the text classifier"
   ]
  },
  {
   "cell_type": "code",
   "execution_count": 19,
   "metadata": {},
   "outputs": [
    {
     "name": "stdout",
     "output_type": "stream",
     "text": [
      "KerasEmbeddingTextClassifier ::predict ==> start\n",
      "F1 2018-06-12 19:19:49,735 INFO azureml.text:TatkPipeline Prediction starting in experiment 228999593 \n",
      "F1 2018-06-12 19:19:49,736 INFO azureml.text:8352507970292263481 TatkPipeline::predict ==> start \n",
      "F1 2018-06-12 19:19:49,746 INFO azureml.text:8352507970292263481 NltkPreprocessor::tatk_transform ==> start \n",
      "NltkPreprocessor::tatk_transform ==> start\n",
      "F1 2018-06-12 19:19:56,366 INFO azureml.text:8352507970292263481 NltkPreprocessor::tatk_transform ==> end \t Time taken: 0.11 mins \n",
      "NltkPreprocessor::tatk_transform ==> end \t Time taken: 0.11 mins\n",
      "F1 2018-06-12 19:19:56,371 INFO azureml.text:8352507970292263481 Word2VecVectorizer::tatk_transform ==> start \n",
      "Word2VecVectorizer::tatk_transform ==> start\n",
      "F1 2018-06-12 19:20:02,677 INFO azureml.text:8352507970292263481 Word2VecVectorizer::tatk_transform ==> end \t Time taken: 0.1 mins \n",
      "Word2VecVectorizer::tatk_transform ==> end \t Time taken: 0.1 mins\n",
      "KerasEmbeddingTextClassifierLearner::tatk_predict_proba ==> start\n",
      "KerasEmbeddingTextClassifierLearner::tatk_predict_proba ==> end \t Time taken: 0.13 mins\n",
      "KerasEmbeddingTextClassifierLearner::tatk_predict ==> start\n",
      "KerasEmbeddingTextClassifierLearner::tatk_predict ==> end \t Time taken: 0.13 mins\n",
      "F1 2018-06-12 19:20:18,520 INFO azureml.text:8352507970292263481 TatkPipeline::predict ==> end \n",
      "F1 2018-06-12 19:20:18,523 INFO azureml.text:TatkPipeline Prediction finished in experiment 228999593 \n",
      "Time taken: 0.48 mins\n",
      "KerasEmbeddingTextClassifier ::predict ==> end\n",
      "Order of Labels in predicted probabilities saved to attribute label_order of the class object\n"
     ]
    },
    {
     "data": {
      "text/html": [
       "<div>\n",
       "<table border=\"1\" class=\"dataframe\">\n",
       "  <thead>\n",
       "    <tr style=\"text-align: right;\">\n",
       "      <th></th>\n",
       "      <th>review</th>\n",
       "      <th>sentiment</th>\n",
       "      <th>probabilities</th>\n",
       "      <th>prediction</th>\n",
       "    </tr>\n",
       "  </thead>\n",
       "  <tbody>\n",
       "    <tr>\n",
       "      <th>49995</th>\n",
       "      <td>I'm really not too sure why people are being s...</td>\n",
       "      <td>0</td>\n",
       "      <td>[0.87794167, 0.12205833]</td>\n",
       "      <td>0</td>\n",
       "    </tr>\n",
       "    <tr>\n",
       "      <th>49996</th>\n",
       "      <td>I read the book and really enjoyed it from beg...</td>\n",
       "      <td>0</td>\n",
       "      <td>[0.98860276, 0.011397166]</td>\n",
       "      <td>0</td>\n",
       "    </tr>\n",
       "    <tr>\n",
       "      <th>49997</th>\n",
       "      <td>Bamboo House of Dolls (1973, 1974 or 1977, var...</td>\n",
       "      <td>0</td>\n",
       "      <td>[0.98977506, 0.010224895]</td>\n",
       "      <td>0</td>\n",
       "    </tr>\n",
       "    <tr>\n",
       "      <th>49998</th>\n",
       "      <td>Firstly, there are some good things about this...</td>\n",
       "      <td>0</td>\n",
       "      <td>[0.9947866, 0.0052133505]</td>\n",
       "      <td>0</td>\n",
       "    </tr>\n",
       "    <tr>\n",
       "      <th>49999</th>\n",
       "      <td>Since I am a fan of Natalie Portman, I had to ...</td>\n",
       "      <td>1</td>\n",
       "      <td>[0.16938078, 0.8306192]</td>\n",
       "      <td>1</td>\n",
       "    </tr>\n",
       "  </tbody>\n",
       "</table>\n",
       "</div>"
      ],
      "text/plain": [
       "                                                  review  sentiment  \\\n",
       "49995  I'm really not too sure why people are being s...          0   \n",
       "49996  I read the book and really enjoyed it from beg...          0   \n",
       "49997  Bamboo House of Dolls (1973, 1974 or 1977, var...          0   \n",
       "49998  Firstly, there are some good things about this...          0   \n",
       "49999  Since I am a fan of Natalie Portman, I had to ...          1   \n",
       "\n",
       "                   probabilities  prediction  \n",
       "49995   [0.87794167, 0.12205833]           0  \n",
       "49996  [0.98860276, 0.011397166]           0  \n",
       "49997  [0.98977506, 0.010224895]           0  \n",
       "49998  [0.9947866, 0.0052133505]           0  \n",
       "49999    [0.16938078, 0.8306192]           1  "
      ]
     },
     "execution_count": 19,
     "metadata": {},
     "output_type": "execute_result"
    }
   ],
   "source": [
    "imdb_test = pd.DataFrame({'review': X_test, 'sentiment': y_test})\n",
    "keras_text_classifier.predict(imdb_test)\n",
    "imdb_test[-5:]"
   ]
  },
  {
   "cell_type": "markdown",
   "metadata": {},
   "source": [
    "## Step 4: Performance evaluation"
   ]
  },
  {
   "cell_type": "code",
   "execution_count": 20,
   "metadata": {},
   "outputs": [
    {
     "name": "stdout",
     "output_type": "stream",
     "text": [
      "KerasEmbeddingTextClassifier ::evaluate ==> start\n",
      "Time taken: 0.0 mins\n",
      "KerasEmbeddingTextClassifier ::evaluate ==> end\n"
     ]
    }
   ],
   "source": [
    "res = keras_text_classifier.evaluate(imdb_test)"
   ]
  },
  {
   "cell_type": "code",
   "execution_count": 21,
   "metadata": {},
   "outputs": [
    {
     "name": "stdout",
     "output_type": "stream",
     "text": [
      "Confusion matrix, without normalization\n",
      "[[10894  1633]\n",
      " [  935 11538]]\n"
     ]
    },
    {
     "data": {
      "image/png": "[encoded data removed]",
      "text/plain": [
       "<Figure size 432x288 with 2 Axes>"
      ]
     },
     "metadata": {},
     "output_type": "display_data"
    }
   ],
   "source": [
    "res.plot_confusion_matrix()"
   ]
  },
  {
   "cell_type": "code",
   "execution_count": 22,
   "metadata": {},
   "outputs": [
    {
     "name": "stdout",
     "output_type": "stream",
     "text": [
      "Normalized confusion matrix\n",
      "[[0.86964157 0.13035843]\n",
      " [0.07496192 0.92503808]]\n"
     ]
    },
    {
     "data": {
      "image/png": "[encoded data removed]",
      "text/plain": [
       "<Figure size 432x288 with 2 Axes>"
      ]
     },
     "metadata": {},
     "output_type": "display_data"
    }
   ],
   "source": [
    "res.plot_confusion_matrix(normalize=True)"
   ]
  },
  {
   "cell_type": "markdown",
   "metadata": {},
   "source": [
    "## Step 5: Save the pipeline "
   ]
  },
  {
   "cell_type": "markdown",
   "metadata": {},
   "source": [
    "Create a path to save your pipeline and model:"
   ]
  },
  {
   "cell_type": "code",
   "execution_count": 23,
   "metadata": {},
   "outputs": [
    {
     "name": "stdout",
     "output_type": "stream",
     "text": [
      "/home/alizaidi/tatk/resources/models/2018_06_12/keras_text_classifier_cnn\n"
     ]
    }
   ],
   "source": [
    "pipeline_path = pathlib.Path(resources_dir) / \"models\" / datetime.datetime.now().strftime(\"%Y_%m_%d\") / \"keras_text_classifier_cnn\"\n",
    "if not pipeline_path.exists(): pipeline_path.mkdir(parents=True)\n",
    "print(pipeline_path)"
   ]
  },
  {
   "cell_type": "code",
   "execution_count": 24,
   "metadata": {},
   "outputs": [
    {
     "name": "stdout",
     "output_type": "stream",
     "text": [
      "BaseTextModel::save ==> start\n",
      "TatkPipeline::save ==> start\n",
      "F1 2018-06-12 19:20:19,312 INFO storing 100002x300 projection weights into /home/alizaidi/tatk/resources/models/2018_06_12/keras_text_classifier_cnn/pipeline/vectorizer/embedding_table.txt\n",
      "Time taken: 0.24 mins\n",
      "TatkPipeline::save ==> end\n",
      "Time taken: 0.24 mins\n",
      "BaseTextModel::save ==> end\n"
     ]
    }
   ],
   "source": [
    "keras_text_classifier.save(str(pipeline_path))"
   ]
  },
  {
   "cell_type": "markdown",
   "metadata": {},
   "source": [
    "## Step 6: Load the pipeline"
   ]
  },
  {
   "cell_type": "code",
   "execution_count": 25,
   "metadata": {},
   "outputs": [
    {
     "name": "stdout",
     "output_type": "stream",
     "text": [
      "BaseTextModel::load ==> start\n",
      "TatkPipeline::load ==> start\n",
      "Word2VecVectorizer: neither Word2Vec model nor embedding table file found\n",
      "Time taken: 0.02 mins\n",
      "TatkPipeline::load ==> end\n",
      "Time taken: 0.02 mins\n",
      "BaseTextModel::load ==> end\n"
     ]
    }
   ],
   "source": [
    "loaded_keras_model = keras_text_classifier.load(str(pipeline_path))"
   ]
  },
  {
   "cell_type": "code",
   "execution_count": 26,
   "metadata": {},
   "outputs": [
    {
     "name": "stdout",
     "output_type": "stream",
     "text": [
      "KerasEmbeddingTextClassifier ::evaluate ==> start\n",
      "Time taken: 0.0 mins\n",
      "KerasEmbeddingTextClassifier ::evaluate ==> end\n",
      "Normalized confusion matrix\n",
      "[[0.86964157 0.13035843]\n",
      " [0.07496192 0.92503808]]\n"
     ]
    },
    {
     "data": {
      "image/png": "[encoded data removed]",
      "text/plain": [
       "<Figure size 432x288 with 2 Axes>"
      ]
     },
     "metadata": {},
     "output_type": "display_data"
    }
   ],
   "source": [
    "verify_res = loaded_keras_model.evaluate(imdb_test)\n",
    "verify_res.plot_confusion_matrix(normalize=\"True\")"
   ]
  },
  {
   "cell_type": "markdown",
   "metadata": {},
   "source": [
    "### Verify the same as before:"
   ]
  },
  {
   "cell_type": "code",
   "execution_count": 27,
   "metadata": {},
   "outputs": [
    {
     "data": {
      "text/plain": [
       "True"
      ]
     },
     "execution_count": 27,
     "metadata": {},
     "output_type": "execute_result"
    }
   ],
   "source": [
    "(res.cnf_matrix == verify_res.cnf_matrix).all()"
   ]
  },
  {
   "cell_type": "markdown",
   "metadata": {},
   "source": [
    "## Predictions"
   ]
  },
  {
   "cell_type": "markdown",
   "metadata": {},
   "source": [
    "### You can evaluate on new data. Let's try a hard example:"
   ]
  },
  {
   "cell_type": "code",
   "execution_count": 29,
   "metadata": {},
   "outputs": [
    {
     "name": "stdout",
     "output_type": "stream",
     "text": [
      "KerasEmbeddingTextClassifier ::predict ==> start\n",
      "F1 2018-06-12 19:22:10,670 INFO azureml.text:TatkPipeline Prediction starting in experiment 535258228 \n",
      "F1 2018-06-12 19:22:10,672 INFO azureml.text:8352507970292263481 TatkPipeline::predict ==> start \n",
      "F1 2018-06-12 19:22:10,682 INFO azureml.text:8352507970292263481 NltkPreprocessor::tatk_transform ==> start \n",
      "NltkPreprocessor::tatk_transform ==> start\n",
      "F1 2018-06-12 19:22:10,684 INFO azureml.text:8352507970292263481 NltkPreprocessor::tatk_transform ==> end \t Time taken: 0.0 mins \n",
      "NltkPreprocessor::tatk_transform ==> end \t Time taken: 0.0 mins\n",
      "F1 2018-06-12 19:22:10,686 INFO azureml.text:8352507970292263481 Word2VecVectorizer::tatk_transform ==> start \n",
      "Word2VecVectorizer::tatk_transform ==> start\n",
      "F1 2018-06-12 19:22:10,756 INFO azureml.text:8352507970292263481 Word2VecVectorizer::tatk_transform ==> end \t Time taken: 0.0 mins \n",
      "Word2VecVectorizer::tatk_transform ==> end \t Time taken: 0.0 mins\n",
      "KerasEmbeddingTextClassifierLearner::tatk_predict_proba ==> start\n",
      "KerasEmbeddingTextClassifierLearner::tatk_predict_proba ==> end \t Time taken: 0.0 mins\n",
      "KerasEmbeddingTextClassifierLearner::tatk_predict ==> start\n",
      "KerasEmbeddingTextClassifierLearner::tatk_predict ==> end \t Time taken: 0.0 mins\n",
      "F1 2018-06-12 19:22:10,779 INFO azureml.text:8352507970292263481 TatkPipeline::predict ==> end \n",
      "F1 2018-06-12 19:22:10,780 INFO azureml.text:TatkPipeline Prediction finished in experiment 535258228 \n",
      "Time taken: 0.0 mins\n",
      "KerasEmbeddingTextClassifier ::predict ==> end\n",
      "Order of Labels in predicted probabilities saved to attribute label_order of the class object\n"
     ]
    },
    {
     "data": {
      "text/html": [
       "<div>\n",
       "<table border=\"1\" class=\"dataframe\">\n",
       "  <thead>\n",
       "    <tr style=\"text-align: right;\">\n",
       "      <th></th>\n",
       "      <th>review</th>\n",
       "      <th>probabilities</th>\n",
       "      <th>prediction</th>\n",
       "    </tr>\n",
       "  </thead>\n",
       "  <tbody>\n",
       "    <tr>\n",
       "      <th>0</th>\n",
       "      <td>This movie was so bad it was awesome</td>\n",
       "      <td>[0.9488489, 0.051151115]</td>\n",
       "      <td>0</td>\n",
       "    </tr>\n",
       "  </tbody>\n",
       "</table>\n",
       "</div>"
      ],
      "text/plain": [
       "                                 review             probabilities  prediction\n",
       "0  This movie was so bad it was awesome  [0.9488489, 0.051151115]           0"
      ]
     },
     "execution_count": 29,
     "metadata": {},
     "output_type": "execute_result"
    }
   ],
   "source": [
    "df_predict = pd.DataFrame({'review' : [\"This movie was so bad it was awesome\"]})\n",
    "df_res = keras_text_classifier.predict(df_predict)\n",
    "df_res"
   ]
  },
  {
   "cell_type": "code",
   "execution_count": 35,
   "metadata": {},
   "outputs": [],
   "source": [
    "tb_logs = str(pathlib.Path(keras_text_classifier.get_params()[\"log_dir\"]).parent)"
   ]
  },
  {
   "cell_type": "code",
   "execution_count": 36,
   "metadata": {},
   "outputs": [],
   "source": [
    "def launchTensorBoard(tensorBoardPath=tb_logs):\n",
    "    import os\n",
    "    os.system('tensorboard --logdir=' + tensorBoardPath)\n",
    "    return"
   ]
  },
  {
   "cell_type": "code",
   "execution_count": 37,
   "metadata": {},
   "outputs": [],
   "source": [
    "from multiprocessing import Process\n",
    "t = Process(target=launchTensorBoard, args=([]))\n",
    "t.start()"
   ]
  },
  {
   "cell_type": "code",
   "execution_count": null,
   "metadata": {},
   "outputs": [],
   "source": []
  }
 ],
 "metadata": {
  "kernelspec": {
   "display_name": "Python [conda env:aztatk]",
   "language": "python",
   "name": "conda-env-aztatk-py"
  },
  "language_info": {
   "codemirror_mode": {
    "name": "ipython",
    "version": 3
   },
   "file_extension": ".py",
   "mimetype": "text/x-python",
   "name": "python",
   "nbconvert_exporter": "python",
   "pygments_lexer": "ipython3",
   "version": "3.5.2"
  },
  "toc": {
   "nav_menu": {},
   "number_sections": true,
   "sideBar": true,
   "skip_h1_title": false,
   "title_cell": "Table of Contents",
   "title_sidebar": "Contents",
   "toc_cell": false,
   "toc_position": {},
   "toc_section_display": true,
   "toc_window_display": false
  },
  "varInspector": {
   "cols": {
    "lenName": 16,
    "lenType": 16,
    "lenVar": 40
   },
   "kernels_config": {
    "python": {
     "delete_cmd_postfix": "",
     "delete_cmd_prefix": "del ",
     "library": "var_list.py",
     "varRefreshCmd": "print(var_dic_list())"
    },
    "r": {
     "delete_cmd_postfix": ") ",
     "delete_cmd_prefix": "rm(",
     "library": "var_list.r",
     "varRefreshCmd": "cat(var_dic_list()) "
    }
   },
   "types_to_exclude": [
    "module",
    "function",
    "builtin_function_or_method",
    "instance",
    "_Feature"
   ],
   "window_display": false
  }
 },
 "nbformat": 4,
 "nbformat_minor": 2
}
