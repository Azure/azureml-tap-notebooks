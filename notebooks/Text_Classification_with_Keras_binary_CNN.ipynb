{
 "cells": [
  {
   "cell_type": "markdown",
   "metadata": {},
   "source": [
    "## AML Package for Text Analytics - Text Classification \n",
    "### Text Classification using Convolutional Neural Networks (CNNs) and Word2Vec Embeddings\n",
    "\n",
    "### Background\n",
    "\n",
    "Sentiment analysis is the task of extracting the intended subjective information conveyed by a text. It's most common form is for polarity extraction, i.e., distinguishing between positive and negative attitudes toward some item or product.\n",
    "\n",
    "One major difficulty is that the judgment of the polarity of an opinion can be subjective. Humans, for instance, usually disagree when judging the sentiment of a sentence, typically reaching only modest inter‐annotator agreement.\n",
    "\n",
    "Moreover, polarity has to be interpreted within a context (contextual polarity). Thus, the polarity of a word can be modified in a sentence due to linguistic phenomena such as negation, modality, intensifiers, diminishers, and word sense.\n",
    "\n",
    "Deep learning is an emergent area of machine learning that offers methods for learning feature representation in a supervised or unsupervised fashion within a hierarchy. Typically, high layers of the hierarchy will have a more abstract representation (i.e., distributed representation) than lower layers. Higher layers evolve during training to exploit complex compositional nonlinear functions of the lower layers.\n",
    "\n",
    "We apply deep learning architectures to the task of sentiment analysis on a corpus of [polarized movie reviews](http://ai.stanford.edu/~amaas/data/sentiment/) from the IMDB website. This dataset was curated by Andrew Maas and fellow researchers at Stanford University, and is sometimes referred to as the _large movie review dataset_. We've provided a helper function to download the raw dataset from the URL, and transform it into a pandas DataFrame. \n",
    "\n",
    "\n",
    "### Convolutions for Text\n",
    "In this tutorial we showcase the use of neural networks with convolutions and pooling operations. The main idea behind a convolution and pooling architecture for language tasks is to apply a nonlinear (learned) function over each instantiation of a $k$-word sliding window over the sentence. For our use-case, we use a 1D convolution + maximum pooling over the review using a pre-trained word-embedding matrix.\n",
    "\n",
    "This architecture looks up each word in the embedding matrix to obtain an embedding vector, and a \"window\" of embedding vectors are concatenated together prior to the application of non-linearity and a maximum pooling operation to create features to use as predictors of sentiment. A pictorial representation of this operation over a sample sentence is given below (image is from _Yoav Goldberg (2017) - Neural Networks for Natural Language Processing, Morgan & Claypool Publishers_)\n",
    "\n",
    "![Yoav Goldberg - Neural Networks for Natural Language Processing](img/conv-pool-text.png)\n",
    "\n",
    "Following are the steps for creating and deploying a custom entity extraction model using the package:\n",
    "<br> Step 1: Loading dataset and pre-trained embedding model\n",
    "<br> Step 2: Model training\n",
    "<br> Step 3: Apply the custom entity extractor \n",
    "<br> Step 4: Performance Evaluation\n",
    "<br> Step 5: Save the pipeline \n",
    "<br> Step 6: Load the pipeline \n",
    "<br> Step 7: Run the pipeline on unlabeled data\n",
    "<br> Step 8: Operationalize - Deploy the pipeline"
   ]
  },
  {
   "cell_type": "markdown",
   "metadata": {},
   "source": [
    "## Imports"
   ]
  },
  {
   "cell_type": "code",
   "execution_count": 1,
   "metadata": {},
   "outputs": [],
   "source": [
    "%reload_ext autoreload\n",
    "%autoreload 2\n",
    "%matplotlib inline"
   ]
  },
  {
   "cell_type": "code",
   "execution_count": 2,
   "metadata": {},
   "outputs": [
    {
     "name": "stdout",
     "output_type": "stream",
     "text": [
      "Name: azureml-tatk\n",
      "Version: 0.1.18123.2b3\n",
      "Summary: Microsoft Azure Machine Learning Package for Text Analytics\n",
      "Home-page: https://microsoft.sharepoint.com/teams/TextAnalyticsPackagePreview\n",
      "Author: Microsoft Corporation\n",
      "Author-email: amltap@microsoft.com\n",
      "License: UNKNOWN\n",
      "Location: /anaconda/envs/aztatkmlads/lib/python3.5/site-packages\n",
      "Requires: validators, h5py, nltk, jsonpickle, pytest, pdfminer.six, pyspark, dill, ruamel.yaml, matplotlib, nose, bqplot, azure-ml-api-sdk, ipython, scipy, qgrid, numpy, docker, lxml, sklearn-crfsuite, keras, scikit-learn, ipywidgets, unidecode, pandas, azure-storage, gensim, requests\n",
      "\u001b[33mYou are using pip version 9.0.3, however version 10.0.1 is available.\n",
      "You should consider upgrading via the 'pip install --upgrade pip' command.\u001b[0m\n"
     ]
    }
   ],
   "source": [
    "import sys\n",
    "!{sys.executable} -m pip show azureml-tatk"
   ]
  },
  {
   "cell_type": "code",
   "execution_count": 4,
   "metadata": {},
   "outputs": [
    {
     "name": "stderr",
     "output_type": "stream",
     "text": [
      "Using TensorFlow backend.\n"
     ]
    }
   ],
   "source": [
    "import numpy as np\n",
    "import pandas as pd\n",
    "import os\n",
    "import pathlib\n",
    "import matplotlib.pyplot as plt\n",
    "from scipy import stats\n",
    "import pandas as pd\n",
    "\n",
    "os.environ[\"CUDA_VISIBLE_DEVICES\"] = \"0\"\n",
    "import keras"
   ]
  },
  {
   "cell_type": "markdown",
   "metadata": {},
   "source": [
    "## Step 1: Loading dataset and pre-trained embedding model"
   ]
  },
  {
   "cell_type": "markdown",
   "metadata": {},
   "source": [
    "We need to download the movie review dataset as well as the embedding model we will use in our network. Please download the data from [IMDB Data](ai.stanford.edu/~amaas/data/sentiment/aclImdb_v1.tar.gz) and save it to your home directory under `tatk\\resources\\data\\imdb`."
   ]
  },
  {
   "cell_type": "code",
   "execution_count": 5,
   "metadata": {},
   "outputs": [],
   "source": [
    "resources_dir = os.path.join(os.path.expanduser(\"~\"), \"tatk\", \"resources\")\n",
    "data_dir = os.path.join(resources_dir, \"data\")\n",
    "\n",
    "def load_imdb_data(data_dir:str=data_dir, out_numpy:bool=True):\n",
    "    \n",
    "    \"\"\"Load IMDB Dataset into numpy or pandas dataframe\n",
    "\n",
    "    Returns movies DataFrame of reviews. For more information about the dataset, please see the original source:\n",
    "    [Andrew Maas, Large Movie Review Dataset](http://ai.stanford.edu/~amaas/data/sentiment/). \n",
    "    Andrew L. Maas, Raymond E. Daly, Peter T. Pham, Dan Huang, Andrew Y. Ng, and Christopher Potts. (2011). \n",
    "        Learning Word Vectors for Sentiment Analysis. The 49th Annual Meeting of the Association for Computational Linguistics (ACL 2011).\n",
    "\n",
    "    \n",
    "    data_dir : str, optional\n",
    "        Path to save data (the default is data_dir, which is `tatk.utils.load_data.data_dir`)\n",
    "    out_numpy : bool, optional\n",
    "        Whether to return numpy or Pandas (the default is True, which returns a tuple of length four of numpy arrays)\n",
    "    \n",
    "    Returns\n",
    "    -------\n",
    "    Numpy or Pandas data of reviews\n",
    "    \"\"\"\n",
    "    \n",
    "    def reporthook(count, block_size, total_size):\n",
    "        global start_time\n",
    "        if count == 0:\n",
    "            start_time = time.time()\n",
    "            return\n",
    "        duration = time.time() - start_time\n",
    "        progress_size = int(count * block_size)\n",
    "        speed = progress_size / (1024.**2 * duration)\n",
    "        percent = count * block_size * 100. / total_size\n",
    "        sys.stdout.write(\"\\r%d%% | %d MB | %.2f MB/s | %d sec elapsed\" %\n",
    "                        (percent, progress_size / (1024.**2), speed, duration))\n",
    "        sys.stdout.flush()\n",
    "        \n",
    "    import sys\n",
    "    import time\n",
    "    import tarfile\n",
    "    import pandas as pd\n",
    "    import pathlib\n",
    "\n",
    "    tar_file = pathlib.Path(data_dir) / \"imdb\" / \"aclImdb_v1.tar.gz\"  \n",
    "    tar_file = str(tar_file)\n",
    "    target_dir = pathlib.Path(data_dir) / \"imdb\"\n",
    "    target_dir = str(target_dir)\n",
    "\n",
    "    print(50 * '-')\n",
    "    print(\"Loading from disk if available, otherwise extract and load downloaded tar\")\n",
    "\n",
    "    csv_path = pathlib.Path(data_dir) / \"imdb\" / \"reviews.csv\"  \n",
    "    if not csv_path.parent.exists():\n",
    "        csv_path.parent.mkdir(parents=True)\n",
    "\n",
    "    if os.path.isfile(str(csv_path)):\n",
    "        print(50 * \"-\")\n",
    "        print(\"Loading saved CSV from disk\")\n",
    "        df = pd.read_csv(str(csv_path))\n",
    "    else:\n",
    "        if not os.path.isdir(os.path.join(target_dir, \"aclImdb\")) and not os.path.isfile(tar_file):\n",
    "            print(50 * '=')\n",
    "            print('Data has not yet been downloaded, please download from http://ai.stanford.edu/~amaas/data/sentiment/aclImdb_v1.tar.gz')\n",
    "            return\n",
    "        if not os.path.isdir(os.path.join(target_dir, \"aclImdb\")):\n",
    "            print(50 * '=')\n",
    "            print(\"Extracting tarfile\")\n",
    "            with tarfile.open(tar_file, 'r:gz') as tar:\n",
    "                tar.extractall(path = target_dir)\n",
    "                \n",
    "        print(50 * \"-\")\n",
    "        print(\"CSV not found, loading from source, this might take a few minutes\")\n",
    "        labels = {'pos': 1, 'neg': 0}\n",
    "        df = pd.DataFrame()\n",
    "        for s in ('train', 'test'):\n",
    "            for l in ('pos', 'neg'):\n",
    "                path = os.path.join(target_dir, \"aclImdb\", s, l)\n",
    "                for file in os.listdir(path):\n",
    "                    with open(os.path.join(path, file), 'r',\n",
    "                              encoding='utf-8') as infile:\n",
    "                        txt = infile.read()\n",
    "                    df = df.append([[txt, labels[l]]], ignore_index=True)\n",
    "        df.columns = ['review', 'sentiment']\n",
    "        df.to_csv(str(csv_path), index=False)\n",
    "\n",
    "    X_train = df.loc[0:24999, \"review\"]\n",
    "    y_train = df.loc[0:24999, 'sentiment']\n",
    "    X_test = df.loc[25000:, \"review\"]\n",
    "    y_test = df.loc[25000:, 'sentiment']\n",
    "\n",
    "\n",
    "    if out_numpy:\n",
    "        print(\"Returning numpy arrays, X_train, y_train, X_test, y_test\")\n",
    "        return X_train, y_train, X_test, y_test\n",
    "    else:\n",
    "        print(\"Returning Pandas DataFrame\")\n",
    "        return df"
   ]
  },
  {
   "cell_type": "code",
   "execution_count": 6,
   "metadata": {},
   "outputs": [
    {
     "name": "stdout",
     "output_type": "stream",
     "text": [
      "--------------------------------------------------\n",
      "Loading from disk if available, otherwise extract and load downloaded tar\n",
      "--------------------------------------------------\n",
      "Loading saved CSV from disk\n",
      "Returning numpy arrays, X_train, y_train, X_test, y_test\n"
     ]
    }
   ],
   "source": [
    "X_train, y_train, X_test, y_test = load_imdb_data(data_dir=str(data_dir))"
   ]
  },
  {
   "cell_type": "markdown",
   "metadata": {},
   "source": [
    "### Download the Embedding Model\n",
    "\n",
    "Download pretrained Google word embedding model [GoogleNews-vectors-negative300.bin.gz](https://drive.google.com/uc?id=0B7XkCwpI5KDYNlNUTTlSS21pQmM&export=download), and save it your home directory under `tatk\\resources\\models\\Word2Vec_Models\\`."
   ]
  },
  {
   "cell_type": "code",
   "execution_count": 7,
   "metadata": {},
   "outputs": [],
   "source": [
    "import pathlib\n",
    "embedding_file_path = str(pathlib.Path(resources_dir).joinpath(\"models\", \"Word2Vec_Models\", \n",
    "                                                               \"GoogleNews-vectors-negative300.bin\"))"
   ]
  },
  {
   "cell_type": "code",
   "execution_count": 8,
   "metadata": {},
   "outputs": [
    {
     "data": {
      "text/html": [
       "<div>\n",
       "<table border=\"1\" class=\"dataframe\">\n",
       "  <thead>\n",
       "    <tr style=\"text-align: right;\">\n",
       "      <th></th>\n",
       "      <th>review</th>\n",
       "      <th>sentiment</th>\n",
       "    </tr>\n",
       "  </thead>\n",
       "  <tbody>\n",
       "    <tr>\n",
       "      <th>0</th>\n",
       "      <td>What can you say when you see a good French mo...</td>\n",
       "      <td>1</td>\n",
       "    </tr>\n",
       "    <tr>\n",
       "      <th>1</th>\n",
       "      <td>There have been countless talking-animal films...</td>\n",
       "      <td>1</td>\n",
       "    </tr>\n",
       "    <tr>\n",
       "      <th>2</th>\n",
       "      <td>\"Spin it!\"&lt;br /&gt;&lt;br /&gt;The 90s opened up with a...</td>\n",
       "      <td>1</td>\n",
       "    </tr>\n",
       "    <tr>\n",
       "      <th>3</th>\n",
       "      <td>Wonderland is the fascinating film chronicling...</td>\n",
       "      <td>1</td>\n",
       "    </tr>\n",
       "    <tr>\n",
       "      <th>4</th>\n",
       "      <td>Sniper gives a true new meaning to war movies....</td>\n",
       "      <td>1</td>\n",
       "    </tr>\n",
       "  </tbody>\n",
       "</table>\n",
       "</div>"
      ],
      "text/plain": [
       "                                              review  sentiment\n",
       "0  What can you say when you see a good French mo...          1\n",
       "1  There have been countless talking-animal films...          1\n",
       "2  \"Spin it!\"<br /><br />The 90s opened up with a...          1\n",
       "3  Wonderland is the fascinating film chronicling...          1\n",
       "4  Sniper gives a true new meaning to war movies....          1"
      ]
     },
     "execution_count": 8,
     "metadata": {},
     "output_type": "execute_result"
    }
   ],
   "source": [
    "imdb_train = pd.DataFrame({'review': X_train, 'sentiment': y_train})\n",
    "imdb_train[0:5]"
   ]
  },
  {
   "cell_type": "code",
   "execution_count": 9,
   "metadata": {},
   "outputs": [],
   "source": [
    "imdb_train['word_counts'] = imdb_train['review'].str.split().apply(len)"
   ]
  },
  {
   "cell_type": "code",
   "execution_count": 10,
   "metadata": {},
   "outputs": [
    {
     "data": {
      "image/png": "[encoded data removed]",
      "text/plain": [
       "<Figure size 432x288 with 1 Axes>"
      ]
     },
     "metadata": {},
     "output_type": "display_data"
    }
   ],
   "source": [
    "plt.hist(imdb_train['word_counts'], bins = \"auto\")\n",
    "plt.title(\"count frequency of words per review\")\n",
    "plt.show()"
   ]
  },
  {
   "cell_type": "code",
   "execution_count": 11,
   "metadata": {},
   "outputs": [
    {
     "name": "stdout",
     "output_type": "stream",
     "text": [
      "average unique tokens in a review:  233.7872\n"
     ]
    }
   ],
   "source": [
    "print(\"average unique tokens in a review: \", imdb_train['word_counts'].mean())"
   ]
  },
  {
   "cell_type": "code",
   "execution_count": 12,
   "metadata": {},
   "outputs": [
    {
     "data": {
      "image/png": "[encoded data removed]",
      "text/plain": [
       "<Figure size 432x288 with 1 Axes>"
      ]
     },
     "metadata": {},
     "output_type": "display_data"
    }
   ],
   "source": [
    "plt.hist(imdb_train['sentiment'], bins = \"auto\")\n",
    "plt.title(\"count frequency of reviews per class label\")\n",
    "plt.show()"
   ]
  },
  {
   "cell_type": "markdown",
   "metadata": {},
   "source": [
    "There is a large right tail to the length of review, meaning some reviewers are very verbose (over 2000 unique words in one review!), while others are very curt. The minimum length is four unique words:"
   ]
  },
  {
   "cell_type": "code",
   "execution_count": 13,
   "metadata": {},
   "outputs": [
    {
     "name": "stdout",
     "output_type": "stream",
     "text": [
      "['This movie is terrible but it has some good effects.'\n",
      " \"I wouldn't rent this one even on dollar rental night.\"]\n"
     ]
    }
   ],
   "source": [
    "print(imdb_train[imdb_train[\"review\"].apply(lambda x: len(str.split(x)) == imdb_train['word_counts'].min())][\"review\"].values)"
   ]
  },
  {
   "cell_type": "code",
   "execution_count": 14,
   "metadata": {},
   "outputs": [
    {
     "name": "stdout",
     "output_type": "stream",
     "text": [
      "['Match 1: Tag Team Table Match Bubba Ray and Spike Dudley vs Eddie Guerrero and Chris Benoit Bubba Ray and Spike Dudley started things off with a Tag Team Table Match against Eddie Guerrero and Chris Benoit. According to the rules of the match, both opponents have to go through tables in order to get the win. Benoit and Guerrero heated up early on by taking turns hammering first Spike and then Bubba Ray. A German suplex by Benoit to Bubba took the wind out of the Dudley brother. Spike tried to help his brother, but the referee restrained him while Benoit and Guerrero ganged up on him in the corner. With Benoit stomping away on Bubba, Guerrero set up a table outside. Spike dashed into the ring and somersaulted over the top rope onto Guerrero on the outside! After recovering and taking care of Spike, Guerrero slipped a table into the ring and helped the Wolverine set it up. The tandem then set up for a double superplex from the middle rope which would have put Bubba through the table, but Spike knocked the table over right before his brother came crashing down! Guerrero and Benoit propped another table in the corner and tried to Irish Whip Spike through it, but Bubba dashed in and blocked his brother. Bubba caught fire and lifted both opponents into back body drops! Bubba slammed Guerrero and Spike stomped on the Wolverine from off the top rope. Bubba held Benoit at bay for Spike to soar into the Wassup! headbutt! Shortly after, Benoit latched Spike in the Crossface, but the match continued even after Spike tapped out. Bubba came to his brother\\'s rescue and managed to sprawl Benoit on a table. Bubba leapt from the middle rope, but Benoit moved and sent Bubba crashing through the wood! But because his opponents didn\\'t force him through the table, Bubba was allowed to stay in the match. The first man was eliminated shortly after, though, as Spike put Eddie through a table with a Dudley Dawg from the ring apron to the outside! Benoit put Spike through a table moments later to even the score. Within seconds, Bubba nailed a Bubba Bomb that put Benoit through a table and gave the Dudleys the win! Winner: Bubba Ray and Spike Dudley<br /><br />Match 2: Cruiserweight Championship Jamie Noble vs Billy Kidman Billy Kidman challenged Jamie Noble, who brought Nidia with him to the ring, for the Cruiserweight Championship. Noble and Kidman locked up and tumbled over the ring, but raced back inside and grappled some more. When Kidman thwarted all Noble\\'s moves, Noble fled outside the ring where Nidia gave him some encouragement. The fight spread outside the ring and Noble threw his girlfriend into the challenger. Kidman tossed Nidia aside but was taken down with a modified arm bar. Noble continued to attack Kidman\\'s injured arm back in the ring. Kidman\\'s injured harm hampered his offense, but he continued to battle hard. Noble tried to put Kidman away with a powerbomb but the challenger countered into a facebuster. Kidman went to finish things with a Shooting Star Press, but Noble broke up the attempt. Kidman went for the Shooting Star Press again, but this time Noble just rolled out of harm\\'s way. Noble flipped Kidman into a power bomb soon after and got the pin to retain his WWE Cruiserweight Championship! Winner: Jamie Noble<br /><br />Match 3: European Championship William Regal vs Jeff Hardy William Regal took on Jeff Hardy next in an attempt to win back the European Championship. Jeff catapulted Regal over the top rope then took him down with a hurracanrana off the ring apron. Back in the ring, Jeff hit the Whisper in the wind to knock Regal for a loop. Jeff went for the Swanton Bomb, but Regal got his knees up to hit Jeff with a devastating shot. Jeff managed to surprise Regal with a quick rollup though and got the pin to keep the European Championship! Regal started bawling at seeing Hardy celebrate on his way back up the ramp. Winner: Jeff Hardy<br /><br />Match 4: Chris Jericho vs John Cena Chris Jericho had promised to end John Cena\\'s career in their match at Vengeance, which came up next. Jericho tried to teach Cena a lesson as their match began by suplexing him to the mat. Jericho continued to knock Cena around the ring until his cockiness got the better of him. While on the top rope, Jericho began to showboat and allowed Cena to grab him for a superplex! Cena followed with a tilt-a-whirl slam but was taken down with a nasty dropkick to the gut. The rookie recovered and hit a belly to belly suplex but couldn\\'t put Y2J away. Jericho launched into the Lionsault but Cena dodged the move. Jericho nailed a bulldog and then connected on the Lionsault, but did not go for the cover. He goaded Cena to his feet so he could put on the Walls of Jericho. Cena had other ideas, reversing the move into a pin attempt and getting the 1-2-3! Jericho went berserk after the match. Winner: John Cena<br /><br />Match 5: Intercontinental Championship RVD vs Brock Lesnar via disqualification The Next Big Thing and Mr. Pay-Per-View tangled with the Intercontinental Championship on the line. Brock grabbed the title from the ref and draped it over his shoulder momentarily while glaring at RVD. Van Dam \\'s quickness gave Brock fits early on. The big man rolled out of the ring and kicked the steel steps out of frustration. Brock pulled himself together and began to take charge. With Paul Heyman beaming at ringside, Brock slammed RVD to the hard floor outside the ring. From there, Brock began to overpower RVD, throwing him with ease over the top rope. RVD landed painfully on his back, then had to suffer from having his spine cracked against the steel ring steps. The fight returned to the ring with Brock squeezing RVD around the ribs. RVD broke away and soon after leveled Brock with a kick to the temple. RVD followed with the Rolling Thunder but Brock managed to kick out after a two-count. The fight looked like it might be over soon as RVD went for a Five-Star Frog Splash. Brock, though, hoisted Van Dam onto his shoulder and went for the F-5, but RVD whirled Brock into a DDT and followed with the Frog Splash! He went for the pin, but Heyman pulled the ref from the ring! The ref immediately called for a disqualification and soon traded blows with Heyman! After, RVD leapt onto Brock from the top rope and then threatened to hit the Van Terminator! Heyman grabbed RVD\\'s leg and Brock picked up the champ and this time connected with the F-5 onto a steel chair! Winner: RVD<br /><br />Match 6: Booker T vs the Big Show Booker T faced the Big Show one-on-one next. Show withstood Booker T\\'s kicks and punches and slapped Booker into the corner. After being thrown from the ring, Booker picked up a chair at ringside, but Big Show punched it back into Booker\\'s face. Booker tried to get back into the game by choking Show with a camera cable at ringside. Booker smashed a TV monitor from the Spanish announcers\\' position into Show\\'s skull, then delivered a scissors kick that put both men through the table! Booker crawled back into the ring and Big Show staggered in moments later. Show grabbed Booker\\'s throat but was met by a low blow and a kick to the face. Booker climbed the top rope and nailed a somersaulting leg drop to get the pin! Winner: Booker T<br /><br />Announcement: Triple H entered the ring to a thunderous ovation as fans hoped to learn where The Game would end up competing. Before he could speak, Eric Bishoff stopped The Game to apologize for getting involved in his personal business. If Triple H signed with RAW, Bischoff promised his personal life would never come into play again. Bischoff said he\\'s spent the past two years networking in Hollywood. He said everyone was looking for the next breakout WWE Superstar, and they were all talking about Triple H. Bischoff guaranteed that if Triple H signed with RAW, he\\'d be getting top opportunities coming his way. Stephanie McMahon stepped out to issue her own pitch. She said that because of her personal history with Triple H, the two of them know each other very well. She said the two of them were once unstoppable and they can be again. Bischoff cut her off and begged her to stop. Stephanie cited that Triple H once told her how Bischoff said Triple H had no talent and no charisma. Bischoff said he was young at the time and didn\\'t know what he had, but he still has a lot more experience that Stephanie. The two continued to bicker back and forth, until Triple H stepped up with his microphone. The Game said it would be easy to say \"screw you\" to either one of them. Triple H went to shake Bischoff\\'s hand, but pulled it away. He said he would rather go with the devil he knows, rather than the one he doesn\\'t know. Before he could go any further, though, Shawn Michaels came out to shake things up. HBK said the last thing he wanted to do was cause any trouble. He didn\\'t want to get involved, but he remembered pledging to bring Triple H to the nWo. HBK said there\\'s nobody in the world that Triple H is better friends with. HBK told his friend to imagine the two back together again, making Bischoff\\'s life a living hell. Triple H said that was a tempting offer. He then turned and hugged HBK, making official his switch to RAW! Triple H and HBK left, and Bischoff gloated over his victory. Bischoff said the difference between the two of them is that he\\'s got testicles and she doesn\\'t. Stephanie whacked Bischoff on the side of the head and left!<br /><br />Match 7: Tag Team Championship Match Christian and Lance Storm vs Hollywood Hogan and Edge The match started with loud \"USA\" chants and with Hogan shoving Christian through the ropes and out of the ring. The Canadians took over from there. But Edge scored a kick to Christian\\'s head and planted a facebuster on Storm to get the tag to Hogan. Hogan began to Hulk up and soon caught Christian with a big boot and a leg drop! Storm broke up the count and Christian tossed Hogan from the ring where Storm superkicked the icon. Edge tagged in soon after and dropped both opponents. He speared both of them into the corner turnbuckles, but missed a spear on Strom and hit the ref hard instead. Edge nailed a DDT, but the ref was down and could not count. Test raced down and took down Hogan then leveled Edge with a boot. Storm tried to get the pin, but Edge kicked out after two. Riksihi sprinted in to fend off Test, allowing Edge to recover and spear Storm. Christian distracted the ref, though, and Y2J dashed in and clocked Edge with the Tag Team Championship! Storm rolled over and got the pinfall to win the title! Winners and New Tag Team Champions: Christian and Lance Storm<br /><br />Match 8: WWE Undisputed Championship Triple Threat Match. The Rock vs Kurt Angle and the Undertaker Three of WWE\\'s most successful superstars lined up against each other in a Triple Threat Match with the Undisputed Championship hanging in the balance. Taker and The Rock got face to face with Kurt Angle begging for some attention off to the side. He got attention in the form of a beat down form the two other men. Soon after, Taker spilled out of the ring and The Rock brawled with Angle. Angle gave a series of suplexes that took down Rock, but the Great One countered with a DDT that managed a two-count. The fight continued outside the ring with Taker coming to life and clotheslining Angle and repeatedly smacking The Rock. Taker and Rock got into it back into the ring, and Taker dropped The Rock with a sidewalk slam to get a two-count. Rock rebounded, grabbed Taker by the throat and chokeslammed him! Angle broke up the pin attempt that likely would have given The Rock the title. The Rock retaliated by latching on the ankle lock to Kurt Angle. Angle reversed the move and Rock Bottomed the People\\'s Champion. Soon after, The Rock disposed of Angle and hit the People\\'s Elbow on the Undertaker. Angle tried to take advantage by disabling the Great One outside the ring and covering Taker, who kicked out after a two count. Outside the ring, Rock took a big swig from a nearby water bottle and spewed the liquid into Taker\\'s face to blind the champion. Taker didn\\'t stay disabled for long, and managed to overpower Rock and turn his attention to Angle. Taker landed a guillotine leg drop onto Angle, laying on the ring apron. The Rock picked himself up just in time to break up a pin attempt on Kurt Angle. Taker nailed Rock with a DDT and set him up for a chokeslam. ANgle tried sneaking up with a steel chair, but Taker caught on to that tomfoolery and smacked it out of his hands. The referee got caught in the ensuing fire and didn\\'t see Angle knock Taker silly with a steel chair. Angle went to cover Taker as The Rock lay prone, but the Dead Man somehow got his shoulder up. Angle tried to pin Rock, but he too kicked out. The Rock got up and landed Angle in the sharpshooter! Angle looked like he was about to tap, but Taker kicked The Rock out of the submission hold. Taker picked Rock up and crashed him with the Last Ride. While the Dead Man covered him for the win, Angle raced in and picked Taker up in the ankle lock! Taker went delirious with pain, but managed to counter. He picked Angle up for the last ride, but Angle put on a triangle choke! It looked like Taker was about to pass out, but The Rock broke Angle\\'s hold only to find himself caught in the ankle lock. Rock got out of the hold and watched Taker chokeslam Angle. Rocky hit the Rock Bottom, but Taker refused to go down and kicked out. Angle whirled Taker up into the Angle Slam but was Rock Bottomed by the Great One and pinned! Winner and New WWE Champion: The Rock<br /><br />~Finally there is a decent PPV! Lately the PPV weren\\'t very good, but this one was a winner. I give this PPV a A-<br /><br />']\n"
     ]
    }
   ],
   "source": [
    "print(imdb_train[imdb_train[\"review\"].apply(lambda x: len(str.split(x)) == imdb_train['word_counts'].max())][\"review\"].values)"
   ]
  },
  {
   "cell_type": "markdown",
   "metadata": {},
   "source": [
    "## Step 2: Model training"
   ]
  },
  {
   "cell_type": "code",
   "execution_count": 15,
   "metadata": {},
   "outputs": [
    {
     "name": "stdout",
     "output_type": "stream",
     "text": [
      "KerasEmbeddingTextClassifier::create_pipeline ==> start\n",
      "Word2VecVectorizer::load_embeddings ==> start\n",
      "Time taken: 0.07 mins\n",
      "Word2VecVectorizer::load_embeddings ==> end\n",
      "num_words=100002\n",
      ":: number of jobs for the pipeline : 24\n",
      "0\tnltk_preprocessor\n",
      "1\tvectorizer\n",
      "2\tlearner\n",
      "KerasEmbeddingTextClassifier::create_pipeline ==> end\n"
     ]
    }
   ],
   "source": [
    "from tatk.pipelines.text_classification.keras_embedding_text_classifier import KerasEmbeddingTextClassifier\n",
    "import datetime\n",
    "log_dir = pathlib.Path(resources_dir) / \"logs\"\n",
    "imdb_logs = str(log_dir / \"imdb_results\" / datetime.datetime.now().strftime(\"%Y_%m_%d\") / \"kernel_3\")\n",
    "\n",
    "# the generic word embedding model has 3M words. We load the top <max_features> words as input features to the neural network\n",
    "max_features=100000\n",
    "\n",
    "keras_text_classifier = KerasEmbeddingTextClassifier(embedding_file_path, \n",
    "                                                     input_col=\"review\", \n",
    "                                                     label_cols=\"sentiment\",\n",
    "                                                     model_type=\"CNN\",\n",
    "                                                     binary_format=True, \n",
    "                                                     limit=max_features,\n",
    "                                                     cuda_devices=\"0\",\n",
    "                                                     callbacks=True,\n",
    "                                                     log_dir=imdb_logs)"
   ]
  },
  {
   "cell_type": "markdown",
   "metadata": {},
   "source": [
    "### View and Modify Pipeline and Model Parameters"
   ]
  },
  {
   "cell_type": "markdown",
   "metadata": {},
   "source": [
    "Since we are using a slice of the full word embedding matrix (i.e., specified by the `limit` parameter and `max_features` value above) it'll be more efficient to not save the entire word-embedding matrix in our saved pipeline. This can be specified by modifying the `get_from_path` argument in the word2vec `vectorizer`. "
   ]
  },
  {
   "cell_type": "code",
   "execution_count": 16,
   "metadata": {},
   "outputs": [
    {
     "data": {
      "text/plain": [
       "{'binary_format': True,\n",
       " 'callbacks': True,\n",
       " 'class_type': 'single-label',\n",
       " 'cuda_devices': '0',\n",
       " 'embedding_file_path': '/home/alizaidi/tatk/resources/models/Word2Vec_Models/GoogleNews-vectors-negative300.bin',\n",
       " 'input_col': 'review',\n",
       " 'label_cols': ['sentiment'],\n",
       " 'limit': 100000,\n",
       " 'log_dir': '/home/alizaidi/tatk/resources/logs/imdb_results/2018_06_12/kernel_3',\n",
       " 'model_type': 'CNN',\n",
       " 'n_labels': None,\n",
       " 'regex': None,\n",
       " 'trainable_embedding': False}"
      ]
     },
     "execution_count": 16,
     "metadata": {},
     "output_type": "execute_result"
    }
   ],
   "source": [
    "keras_text_classifier.get_params()"
   ]
  },
  {
   "cell_type": "code",
   "execution_count": 17,
   "metadata": {},
   "outputs": [
    {
     "data": {
      "text/plain": [
       "{'batch_size': 50,\n",
       " 'callbacks_list': ['tensorboard', 'checkpoint', 'early'],\n",
       " 'cuda_devices': '0',\n",
       " 'feature_cols': ['features'],\n",
       " 'input_padding_value': 100001,\n",
       " 'label_cols': ['sentiment'],\n",
       " 'log_path': '/home/alizaidi/tatk/resources/logs/imdb_results/2018_06_12/kernel_3',\n",
       " 'max_len': None,\n",
       " 'model__class_type': 'single-label',\n",
       " 'model__dropout_rate': 0.25,\n",
       " 'model__hidden_dims': 250,\n",
       " 'model__init_wordvecs': array([[ 1.12915039e-03, -8.96453857e-04,  3.18527222e-04, ...,\n",
       "         -1.56402588e-03, -1.23023987e-04, -8.63075256e-05],\n",
       "        [ 7.03125000e-02,  8.69140625e-02,  8.78906250e-02, ...,\n",
       "         -4.76074219e-02,  1.44653320e-02, -6.25000000e-02],\n",
       "        [-1.17797852e-02, -4.73632812e-02,  4.46777344e-02, ...,\n",
       "          7.12890625e-02, -3.49121094e-02,  2.41699219e-02],\n",
       "        ...,\n",
       "        [ 5.03540039e-03, -9.57031250e-02,  1.75781250e-01, ...,\n",
       "          1.84570312e-01, -2.13867188e-01,  2.63671875e-01],\n",
       "        [-8.07216235e-02, -4.79336421e-03, -5.50363425e-02, ...,\n",
       "         -5.49854650e-02, -1.24743534e-02, -3.73840687e-02],\n",
       "        [ 0.00000000e+00,  0.00000000e+00,  0.00000000e+00, ...,\n",
       "          0.00000000e+00,  0.00000000e+00,  0.00000000e+00]]),\n",
       " 'model__kernel_size': [3],\n",
       " 'model__num_filters': 250,\n",
       " 'model__trainable_embedding': False,\n",
       " 'model__wordvecs_shape': (100002, 300),\n",
       " 'model_fn': <function tatk.estimators.keras_model_functions.keras_CNN_text_classifier_fn.keras_CNN_text_classifier_fn(with_embedding_layer, model_params, n_labels, num_features=None, num_sent_features=0)>,\n",
       " 'model_type': 'CNN',\n",
       " 'n_epochs': 15,\n",
       " 'n_labels': None,\n",
       " 'prediction_col': 'prediction',\n",
       " 'probabilities_col': 'probabilities',\n",
       " 'validation_split': 0.1}"
      ]
     },
     "execution_count": 17,
     "metadata": {},
     "output_type": "execute_result"
    }
   ],
   "source": [
    "keras_text_classifier.get_step_params_by_name(\"learner\")"
   ]
  },
  {
   "cell_type": "code",
   "execution_count": 18,
   "metadata": {},
   "outputs": [],
   "source": [
    "keras_text_classifier.set_step_params_by_name(\"learner\", model__kernel_size=[3])\n",
    "keras_text_classifier.set_step_params_by_name(\"vectorizer\", get_from_path=False)"
   ]
  },
  {
   "cell_type": "code",
   "execution_count": 19,
   "metadata": {},
   "outputs": [
    {
     "name": "stdout",
     "output_type": "stream",
     "text": [
      "KerasEmbeddingTextClassifier::fit ==> start\n",
      "schema: col=review:TX:0 col=sentiment:I8:1 col=word_counts:I8:2 header+\n",
      "NltkPreprocessor::tatk_fit_transform ==> start\n",
      "NltkPreprocessor::tatk_fit_transform ==> end \t Time taken: 0.11 mins\n",
      "Word2VecVectorizer::tatk_fit_transform ==> start\n",
      "Word2VecVectorizer::tatk_fit_transform ==> end \t Time taken: 0.1 mins\n",
      "KerasEmbeddingTextClassifierLearner::tatk_fit ==> start\n",
      "_________________________________________________________________\n",
      "Layer (type)                 Output Shape              Param #   \n",
      "=================================================================\n",
      "input_1 (InputLayer)         (None, None)              0         \n",
      "_________________________________________________________________\n",
      "embedding_1 (Embedding)      (None, None, 300)         30000600  \n",
      "_________________________________________________________________\n",
      "conv1d_1 (Conv1D)            (None, None, 250)         225250    \n",
      "_________________________________________________________________\n",
      "global_max_pooling1d_1 (Glob (None, 250)               0         \n",
      "_________________________________________________________________\n",
      "dropout_1 (Dropout)          (None, 250)               0         \n",
      "_________________________________________________________________\n",
      "dense_1 (Dense)              (None, 250)               62750     \n",
      "_________________________________________________________________\n",
      "activation_1 (Activation)    (None, 250)               0         \n",
      "_________________________________________________________________\n",
      "dense_2 (Dense)              (None, 2)                 502       \n",
      "_________________________________________________________________\n",
      "activation_2 (Activation)    (None, 2)                 0         \n",
      "=================================================================\n",
      "Total params: 30,289,102\n",
      "Trainable params: 288,502\n",
      "Non-trainable params: 30,000,600\n",
      "_________________________________________________________________\n",
      "None\n",
      "Epoch 1/15\n",
      "448/450 [============================>.] - ETA: 0s - loss: 0.1409 - acc: 0.9842\n",
      "Epoch 00001: val_loss improved from inf to 7.75603, saving model to /home/alizaidi/tatk/resources/logs/imdb_results/2018_06_12/kernel_3/checkpoints\n",
      "450/450 [==============================] - 21s 46ms/step - loss: 0.1402 - acc: 0.9843 - val_loss: 7.7560 - val_acc: 0.5188\n",
      "Epoch 2/15\n",
      "448/450 [============================>.] - ETA: 0s - loss: 1.9912 - acc: 0.6975\n",
      "Epoch 00002: val_loss improved from 7.75603 to 0.33105, saving model to /home/alizaidi/tatk/resources/logs/imdb_results/2018_06_12/kernel_3/checkpoints\n",
      "450/450 [==============================] - 10s 22ms/step - loss: 1.9837 - acc: 0.6983 - val_loss: 0.3311 - val_acc: 0.8580\n",
      "Epoch 3/15\n",
      "446/450 [============================>.] - ETA: 0s - loss: 0.3243 - acc: 0.8648\n",
      "Epoch 00003: val_loss improved from 0.33105 to 0.29182, saving model to /home/alizaidi/tatk/resources/logs/imdb_results/2018_06_12/kernel_3/checkpoints\n",
      "450/450 [==============================] - 9s 19ms/step - loss: 0.3242 - acc: 0.8646 - val_loss: 0.2918 - val_acc: 0.8784\n",
      "Epoch 4/15\n",
      "447/450 [============================>.] - ETA: 0s - loss: 0.2707 - acc: 0.8894\n",
      "Epoch 00004: val_loss improved from 0.29182 to 0.28203, saving model to /home/alizaidi/tatk/resources/logs/imdb_results/2018_06_12/kernel_3/checkpoints\n",
      "450/450 [==============================] - 8s 18ms/step - loss: 0.2705 - acc: 0.8895 - val_loss: 0.2820 - val_acc: 0.8892\n",
      "Epoch 5/15\n",
      "446/450 [============================>.] - ETA: 0s - loss: 0.2259 - acc: 0.9085\n",
      "Epoch 00005: val_loss did not improve\n",
      "450/450 [==============================] - 8s 17ms/step - loss: 0.2257 - acc: 0.9085 - val_loss: 0.2831 - val_acc: 0.8876\n",
      "Epoch 6/15\n",
      "447/450 [============================>.] - ETA: 0s - loss: 0.1848 - acc: 0.9267\n",
      "Epoch 00006: val_loss did not improve\n",
      "450/450 [==============================] - 8s 17ms/step - loss: 0.1846 - acc: 0.9267 - val_loss: 0.3053 - val_acc: 0.8832\n",
      "KerasEmbeddingTextClassifierLearner::tatk_fit ==> end \t Time taken: 1.21 mins\n",
      "Time taken: 1.42 mins\n",
      "KerasEmbeddingTextClassifier::fit ==> end\n"
     ]
    },
    {
     "data": {
      "text/plain": [
       "KerasEmbeddingTextClassifier(binary_format=True, callbacks=True,\n",
       "               class_type='single-label', cuda_devices='0',\n",
       "               embedding_file_path='/home/alizaidi/tatk/resources/models/Word2Vec_Models/GoogleNews-vectors-negative300.bin',\n",
       "               input_col='review', label_cols=['sentiment'], limit=100000,\n",
       "               log_dir='/home/alizaidi/tatk/resources/logs/imdb_results/2018_06_12/kernel_3',\n",
       "               model_type='CNN', n_labels=None, regex=None,\n",
       "               trainable_embedding=False)"
      ]
     },
     "execution_count": 19,
     "metadata": {},
     "output_type": "execute_result"
    }
   ],
   "source": [
    "keras_text_classifier.fit(imdb_train)"
   ]
  },
  {
   "cell_type": "markdown",
   "metadata": {},
   "source": [
    "## Step 3: Apply the text classifier"
   ]
  },
  {
   "cell_type": "code",
   "execution_count": 23,
   "metadata": {},
   "outputs": [
    {
     "name": "stdout",
     "output_type": "stream",
     "text": [
      "KerasEmbeddingTextClassifier ::predict ==> start\n",
      "NltkPreprocessor::tatk_transform ==> start\n",
      "NltkPreprocessor::tatk_transform ==> end \t Time taken: 0.11 mins\n",
      "Word2VecVectorizer::tatk_transform ==> start\n",
      "Word2VecVectorizer::tatk_transform ==> end \t Time taken: 0.09 mins\n",
      "KerasEmbeddingTextClassifierLearner::tatk_predict_proba ==> start\n",
      "KerasEmbeddingTextClassifierLearner::tatk_predict_proba ==> end \t Time taken: 0.13 mins\n",
      "KerasEmbeddingTextClassifierLearner::tatk_predict ==> start\n",
      "KerasEmbeddingTextClassifierLearner::tatk_predict ==> end \t Time taken: 0.13 mins\n",
      "Time taken: 0.46 mins\n",
      "KerasEmbeddingTextClassifier ::predict ==> end\n",
      "Order of Labels in predicted probabilities saved to attribute label_order of the class object\n"
     ]
    },
    {
     "data": {
      "text/html": [
       "<div>\n",
       "<table border=\"1\" class=\"dataframe\">\n",
       "  <thead>\n",
       "    <tr style=\"text-align: right;\">\n",
       "      <th></th>\n",
       "      <th>review</th>\n",
       "      <th>sentiment</th>\n",
       "      <th>probabilities</th>\n",
       "      <th>prediction</th>\n",
       "    </tr>\n",
       "  </thead>\n",
       "  <tbody>\n",
       "    <tr>\n",
       "      <th>49995</th>\n",
       "      <td>Wow! That James Purefoy looks exactly like Tho...</td>\n",
       "      <td>0</td>\n",
       "      <td>[0.999469, 0.00053104106]</td>\n",
       "      <td>0</td>\n",
       "    </tr>\n",
       "    <tr>\n",
       "      <th>49996</th>\n",
       "      <td>Right... so you have a dam, tons of water (tha...</td>\n",
       "      <td>0</td>\n",
       "      <td>[0.9958845, 0.004115557]</td>\n",
       "      <td>0</td>\n",
       "    </tr>\n",
       "    <tr>\n",
       "      <th>49997</th>\n",
       "      <td>This film is one of the worst adaptations of P...</td>\n",
       "      <td>0</td>\n",
       "      <td>[0.99001104, 0.009989011]</td>\n",
       "      <td>0</td>\n",
       "    </tr>\n",
       "    <tr>\n",
       "      <th>49998</th>\n",
       "      <td>European films may be slower-paced and less pl...</td>\n",
       "      <td>0</td>\n",
       "      <td>[0.98406756, 0.015932493]</td>\n",
       "      <td>0</td>\n",
       "    </tr>\n",
       "    <tr>\n",
       "      <th>49999</th>\n",
       "      <td>I saw this movie on the shelf at Blockbuster a...</td>\n",
       "      <td>0</td>\n",
       "      <td>[0.99453, 0.0054699695]</td>\n",
       "      <td>0</td>\n",
       "    </tr>\n",
       "  </tbody>\n",
       "</table>\n",
       "</div>"
      ],
      "text/plain": [
       "                                                  review  sentiment  \\\n",
       "49995  Wow! That James Purefoy looks exactly like Tho...          0   \n",
       "49996  Right... so you have a dam, tons of water (tha...          0   \n",
       "49997  This film is one of the worst adaptations of P...          0   \n",
       "49998  European films may be slower-paced and less pl...          0   \n",
       "49999  I saw this movie on the shelf at Blockbuster a...          0   \n",
       "\n",
       "                   probabilities  prediction  \n",
       "49995  [0.999469, 0.00053104106]           0  \n",
       "49996   [0.9958845, 0.004115557]           0  \n",
       "49997  [0.99001104, 0.009989011]           0  \n",
       "49998  [0.98406756, 0.015932493]           0  \n",
       "49999    [0.99453, 0.0054699695]           0  "
      ]
     },
     "execution_count": 23,
     "metadata": {},
     "output_type": "execute_result"
    }
   ],
   "source": [
    "imdb_test = pd.DataFrame({'review': X_test, 'sentiment': y_test})\n",
    "keras_text_classifier.predict(imdb_test)\n",
    "imdb_test[-5:]"
   ]
  },
  {
   "cell_type": "markdown",
   "metadata": {},
   "source": [
    "## Step 4: Performance evaluation"
   ]
  },
  {
   "cell_type": "code",
   "execution_count": 24,
   "metadata": {},
   "outputs": [
    {
     "name": "stdout",
     "output_type": "stream",
     "text": [
      "KerasEmbeddingTextClassifier ::evaluate ==> start\n",
      "Time taken: 0.0 mins\n",
      "KerasEmbeddingTextClassifier ::evaluate ==> end\n"
     ]
    }
   ],
   "source": [
    "res = keras_text_classifier.evaluate(imdb_test)"
   ]
  },
  {
   "cell_type": "code",
   "execution_count": 25,
   "metadata": {},
   "outputs": [
    {
     "name": "stdout",
     "output_type": "stream",
     "text": [
      "Confusion matrix, without normalization\n",
      "[[11427  1073]\n",
      " [ 1821 10679]]\n"
     ]
    },
    {
     "data": {
      "image/png": "[encoded data removed]",
      "text/plain": [
       "<Figure size 432x288 with 2 Axes>"
      ]
     },
     "metadata": {},
     "output_type": "display_data"
    }
   ],
   "source": [
    "res.plot_confusion_matrix()"
   ]
  },
  {
   "cell_type": "code",
   "execution_count": 26,
   "metadata": {},
   "outputs": [
    {
     "name": "stdout",
     "output_type": "stream",
     "text": [
      "Normalized confusion matrix\n",
      "[[0.91416 0.08584]\n",
      " [0.14568 0.85432]]\n"
     ]
    },
    {
     "data": {
      "image/png": "[encoded data removed]",
      "text/plain": [
       "<Figure size 432x288 with 2 Axes>"
      ]
     },
     "metadata": {},
     "output_type": "display_data"
    }
   ],
   "source": [
    "res.plot_confusion_matrix(normalize=True)"
   ]
  },
  {
   "cell_type": "markdown",
   "metadata": {},
   "source": [
    "## Step 5: Save the pipeline "
   ]
  },
  {
   "cell_type": "markdown",
   "metadata": {},
   "source": [
    "Create a path to save your pipeline and model:"
   ]
  },
  {
   "cell_type": "code",
   "execution_count": 27,
   "metadata": {},
   "outputs": [
    {
     "name": "stdout",
     "output_type": "stream",
     "text": [
      "/home/alizaidi/tatk/resources/models/2018_06_12/keras_text_classifier_cnn\n"
     ]
    }
   ],
   "source": [
    "pipeline_path = pathlib.Path(resources_dir) / \"models\" / datetime.datetime.now().strftime(\"%Y_%m_%d\") / \"keras_text_classifier_cnn\"\n",
    "if not pipeline_path.exists(): pipeline_path.mkdir(parents=True)\n",
    "print(pipeline_path)"
   ]
  },
  {
   "cell_type": "code",
   "execution_count": 28,
   "metadata": {},
   "outputs": [
    {
     "name": "stdout",
     "output_type": "stream",
     "text": [
      "BaseTextModel::save ==> start\n",
      "TatkPipeline::save ==> start\n",
      "Time taken: 0.29 mins\n",
      "TatkPipeline::save ==> end\n",
      "Time taken: 0.29 mins\n",
      "BaseTextModel::save ==> end\n"
     ]
    }
   ],
   "source": [
    "keras_text_classifier.save(str(pipeline_path))"
   ]
  },
  {
   "cell_type": "markdown",
   "metadata": {},
   "source": [
    "## Step 6: Load the pipeline"
   ]
  },
  {
   "cell_type": "code",
   "execution_count": 29,
   "metadata": {},
   "outputs": [
    {
     "name": "stdout",
     "output_type": "stream",
     "text": [
      "BaseTextModel::load ==> start\n",
      "TatkPipeline::load ==> start\n",
      "Word2VecVectorizer: Word2Vec model loaded from /home/alizaidi/tatk/resources/models/2018_06_12/keras_text_classifier_cnn/pipeline/vectorizer/embedding_table.txt\n",
      "Time taken: 0.43 mins\n",
      "TatkPipeline::load ==> end\n",
      "Time taken: 0.43 mins\n",
      "BaseTextModel::load ==> end\n"
     ]
    }
   ],
   "source": [
    "loaded_keras_model = keras_text_classifier.load(str(pipeline_path))"
   ]
  },
  {
   "cell_type": "code",
   "execution_count": 30,
   "metadata": {},
   "outputs": [
    {
     "name": "stdout",
     "output_type": "stream",
     "text": [
      "KerasEmbeddingTextClassifier ::evaluate ==> start\n",
      "Time taken: 0.0 mins\n",
      "KerasEmbeddingTextClassifier ::evaluate ==> end\n",
      "Normalized confusion matrix\n",
      "[[0.91416 0.08584]\n",
      " [0.14568 0.85432]]\n"
     ]
    },
    {
     "data": {
      "image/png": "[encoded data removed]",
      "text/plain": [
       "<Figure size 432x288 with 2 Axes>"
      ]
     },
     "metadata": {},
     "output_type": "display_data"
    }
   ],
   "source": [
    "verify_res = loaded_keras_model.evaluate(imdb_test)\n",
    "verify_res.plot_confusion_matrix(normalize=\"True\")"
   ]
  },
  {
   "cell_type": "markdown",
   "metadata": {},
   "source": [
    "### Verify the same as before:"
   ]
  },
  {
   "cell_type": "code",
   "execution_count": 31,
   "metadata": {},
   "outputs": [
    {
     "data": {
      "text/plain": [
       "True"
      ]
     },
     "execution_count": 31,
     "metadata": {},
     "output_type": "execute_result"
    }
   ],
   "source": [
    "(res.cnf_matrix == verify_res.cnf_matrix).all()"
   ]
  },
  {
   "cell_type": "markdown",
   "metadata": {},
   "source": [
    "## Predictions"
   ]
  },
  {
   "cell_type": "markdown",
   "metadata": {},
   "source": [
    "### You can evaluate on new data. Let's try a hard example:"
   ]
  },
  {
   "cell_type": "code",
   "execution_count": 32,
   "metadata": {},
   "outputs": [
    {
     "name": "stdout",
     "output_type": "stream",
     "text": [
      "KerasEmbeddingTextClassifier ::predict ==> start\n",
      "NltkPreprocessor::tatk_transform ==> start\n",
      "NltkPreprocessor::tatk_transform ==> end \t Time taken: 0.0 mins\n",
      "Word2VecVectorizer::tatk_transform ==> start\n",
      "Word2VecVectorizer::tatk_transform ==> end \t Time taken: 0.0 mins\n",
      "KerasEmbeddingTextClassifierLearner::tatk_predict_proba ==> start\n",
      "KerasEmbeddingTextClassifierLearner::tatk_predict_proba ==> end \t Time taken: 0.0 mins\n",
      "KerasEmbeddingTextClassifierLearner::tatk_predict ==> start\n",
      "KerasEmbeddingTextClassifierLearner::tatk_predict ==> end \t Time taken: 0.0 mins\n",
      "Time taken: 0.0 mins\n",
      "KerasEmbeddingTextClassifier ::predict ==> end\n",
      "Order of Labels in predicted probabilities saved to attribute label_order of the class object\n"
     ]
    },
    {
     "data": {
      "text/html": [
       "<div>\n",
       "<table border=\"1\" class=\"dataframe\">\n",
       "  <thead>\n",
       "    <tr style=\"text-align: right;\">\n",
       "      <th></th>\n",
       "      <th>review</th>\n",
       "      <th>probabilities</th>\n",
       "      <th>prediction</th>\n",
       "    </tr>\n",
       "  </thead>\n",
       "  <tbody>\n",
       "    <tr>\n",
       "      <th>0</th>\n",
       "      <td>This movie was so bad it was awesome</td>\n",
       "      <td>[0.9084107, 0.0915893]</td>\n",
       "      <td>0</td>\n",
       "    </tr>\n",
       "  </tbody>\n",
       "</table>\n",
       "</div>"
      ],
      "text/plain": [
       "                                 review           probabilities  prediction\n",
       "0  This movie was so bad it was awesome  [0.9084107, 0.0915893]           0"
      ]
     },
     "execution_count": 32,
     "metadata": {},
     "output_type": "execute_result"
    }
   ],
   "source": [
    "df_predict = pd.DataFrame({'review' : [\"This movie was so bad it was awesome\"]})\n",
    "df_res = loaded_keras_model.predict(df_predict)\n",
    "df_res"
   ]
  }
 ],
 "metadata": {
  "kernelspec": {
   "display_name": "Python [conda env:aztatkmlads]",
   "language": "python",
   "name": "conda-env-aztatkmlads-py"
  },
  "language_info": {
   "codemirror_mode": {
    "name": "ipython",
    "version": 3
   },
   "file_extension": ".py",
   "mimetype": "text/x-python",
   "name": "python",
   "nbconvert_exporter": "python",
   "pygments_lexer": "ipython3",
   "version": "3.5.5"
  },
  "toc": {
   "nav_menu": {},
   "number_sections": true,
   "sideBar": true,
   "skip_h1_title": false,
   "title_cell": "Table of Contents",
   "title_sidebar": "Contents",
   "toc_cell": false,
   "toc_position": {},
   "toc_section_display": true,
   "toc_window_display": false
  },
  "varInspector": {
   "cols": {
    "lenName": 16,
    "lenType": 16,
    "lenVar": 40
   },
   "kernels_config": {
    "python": {
     "delete_cmd_postfix": "",
     "delete_cmd_prefix": "del ",
     "library": "var_list.py",
     "varRefreshCmd": "print(var_dic_list())"
    },
    "r": {
     "delete_cmd_postfix": ") ",
     "delete_cmd_prefix": "rm(",
     "library": "var_list.r",
     "varRefreshCmd": "cat(var_dic_list()) "
    }
   },
   "types_to_exclude": [
    "module",
    "function",
    "builtin_function_or_method",
    "instance",
    "_Feature"
   ],
   "window_display": false
  }
 },
 "nbformat": 4,
 "nbformat_minor": 2
}
